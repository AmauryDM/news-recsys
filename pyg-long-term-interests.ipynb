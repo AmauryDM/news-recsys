{
 "cells": [
  {
   "cell_type": "code",
   "execution_count": null,
   "metadata": {
    "id": "8RmnkEI3v5yT"
   },
   "outputs": [],
   "source": [
    "%%capture\n",
    "!pip install torch-scatter -f https://data.pyg.org/whl/torch-1.10.0+cu111.html\n",
    "!pip install torch-sparse -f https://data.pyg.org/whl/torch-1.10.0+cu111.html\n",
    "!pip install torch-geometric"
   ]
  },
  {
   "cell_type": "code",
   "execution_count": null,
   "metadata": {
    "id": "kg8Y06Lrv961"
   },
   "outputs": [],
   "source": [
    "import matplotlib.pyplot as plt\n",
    "import numpy as np\n",
    "import os\n",
    "import pandas as pd\n",
    "import random\n",
    "from sklearn import preprocessing as pp\n",
    "from sklearn.model_selection import train_test_split\n",
    "from tqdm.notebook import tqdm\n",
    "import torch\n",
    "import torch.nn as nn\n",
    "import torch.nn.functional as F\n",
    "import torch.optim as optim\n",
    "import torch_geometric\n",
    "from torch_geometric.nn.conv import MessagePassing\n",
    "from torch_geometric.utils import degree"
   ]
  },
  {
   "cell_type": "code",
   "execution_count": null,
   "metadata": {
    "id": "aehyRgOFUjAx"
   },
   "outputs": [],
   "source": [
    "os.environ['CUDA_LAUNCH_BLOCKING'] = \"1\""
   ]
  },
  {
   "cell_type": "code",
   "execution_count": null,
   "metadata": {
    "colab": {
     "base_uri": "https://localhost:8080/"
    },
    "id": "fMRj-1IZCRME",
    "outputId": "cb6bffe2-718b-4c5c-9026-9ec3159f986a"
   },
   "outputs": [
    {
     "data": {
      "text/plain": [
       "device(type='cuda', index=0)"
      ]
     },
     "execution_count": 53,
     "metadata": {},
     "output_type": "execute_result"
    }
   ],
   "source": [
    "device = torch.device(\"cuda:0\" if torch.cuda.is_available() else \"cpu\")\n",
    "device"
   ]
  },
  {
   "cell_type": "markdown",
   "metadata": {
    "id": "a7_KQ7HiVzCy"
   },
   "source": [
    "# Get MIND data"
   ]
  },
  {
   "cell_type": "code",
   "execution_count": null,
   "metadata": {
    "colab": {
     "base_uri": "https://localhost:8080/"
    },
    "id": "3rFJtqFIwKTI",
    "outputId": "bc6d9d54-dd68-4648-931c-aa25a9ff545c"
   },
   "outputs": [
    {
     "name": "stdout",
     "output_type": "stream",
     "text": [
      "Behaviors shape: (376471, 5)\n"
     ]
    }
   ],
   "source": [
    "behaviors = pd.read_csv(\"behaviors.tsv\",\n",
    "                        sep=\"\\t\",\n",
    "                        header=None,\n",
    "                        names=[\"impression_id\", \"user_id\", \"time\", \"history\", \"impressions\"])\n",
    "print(\"Behaviors shape:\", behaviors.shape)"
   ]
  },
  {
   "cell_type": "code",
   "execution_count": null,
   "metadata": {
    "colab": {
     "base_uri": "https://localhost:8080/"
    },
    "id": "IbBTJgwowMZx",
    "outputId": "881fff38-2f69-43f8-b5a9-5f4728fd8897"
   },
   "outputs": [
    {
     "name": "stdout",
     "output_type": "stream",
     "text": [
      "News shape: (72023, 8)\n"
     ]
    }
   ],
   "source": [
    "news = pd.read_csv(\"news.tsv\",\n",
    "                   sep=\"\\t\",\n",
    "                   header=None,\n",
    "                   names=[\"news_id\", \"category\", \"sub_category\", \"title\", \"abstract\", \"url\", \"title_entities\", \"abstract_entites\"])\n",
    "print(\"News shape:\", news.shape)"
   ]
  },
  {
   "cell_type": "markdown",
   "metadata": {
    "id": "f2MwxeT0WDjo"
   },
   "source": [
    "# Preprocessing\n",
    "\n",
    "## The idea is to transform data to have only USER_ID, NEWS_ID, TOPIC_ID. The created dataframe will be used to build the graph connecting users based on the news they interacted with and connecting news based on their shared topics.\n"
   ]
  },
  {
   "cell_type": "code",
   "execution_count": null,
   "metadata": {
    "id": "-OJ5GAeWwWHd"
   },
   "outputs": [],
   "source": [
    "list_users = []\n",
    "list_news = []\n",
    "list_topics = []\n",
    "def nodes_gnewsrec(idx, user_id):\n",
    "    if type(behaviors.loc[behaviors['user_id'] == user_id]['history'].values[0]) == str:\n",
    "        hist = behaviors.loc[behaviors['user_id'] == user_id]['history'].values[0].split(' ')\n",
    "        for item in hist:\n",
    "            list_users.append(user_id)\n",
    "            list_news.append(item)\n",
    "            list_topics.append(news.loc[news['news_id'] == item]['category'].values[0])"
   ]
  },
  {
   "cell_type": "code",
   "execution_count": null,
   "metadata": {
    "colab": {
     "base_uri": "https://localhost:8080/",
     "height": 49,
     "referenced_widgets": [
      "fe74eeb3347140b08fd09a737db3b098",
      "479afaa7d2254729886ffff0646dddea",
      "73bfbc3d2d6144b78ffbf1ca4e868fc4",
      "355b0e7295d04379bc0385c3241bdc69",
      "a61f20bedc6f4cda9db56034d2b07a5f",
      "ba6d267fa72e49d8a6df821ae63c6f42",
      "428a18f77fab468b86ebb3611a5151e1",
      "47b49fa7c9db4170ba0cda1e37b907a9",
      "ddef96bcb7fd4ef29a723801b563d3d4",
      "84f3b742622842e989d456aeabcf5321",
      "6a743b626d50453b83c171aeec542cb0"
     ]
    },
    "id": "9h91iSHWw1cd",
    "outputId": "ee52698c-7fdf-4a21-f2b7-c0577cf396c7"
   },
   "outputs": [
    {
     "data": {
      "application/vnd.jupyter.widget-view+json": {
       "model_id": "fe74eeb3347140b08fd09a737db3b098",
       "version_major": 2,
       "version_minor": 0
      },
      "text/plain": [
       "  0%|          | 0/3000 [00:00<?, ?it/s]"
      ]
     },
     "metadata": {},
     "output_type": "display_data"
    }
   ],
   "source": [
    "for idx, user_id in enumerate(tqdm(behaviors['user_id'][:3000])):\n",
    "    nodes_gnewsrec(idx, user_id)\n",
    "\n",
    "pre_data = {'user_id': list_users,\n",
    "            'news_id': list_news,\n",
    "            'topic_id': list_topics}\n",
    "\n",
    "pre_df = pd.DataFrame(pre_data, columns= ['user_id', 'news_id', 'topic_id'])"
   ]
  },
  {
   "cell_type": "code",
   "execution_count": null,
   "metadata": {
    "id": "cbMGCm8d76Ir"
   },
   "outputs": [],
   "source": [
    "topic_values = sorted(pre_df[\"topic_id\"].unique())\n",
    "topic_idx = {name: id for id, name in enumerate(topic_values)}"
   ]
  },
  {
   "cell_type": "code",
   "execution_count": null,
   "metadata": {
    "id": "1N47dYWf78yt"
   },
   "outputs": [],
   "source": [
    "list_users = []\n",
    "list_news = []\n",
    "list_topics = []\n",
    "\n",
    "for i, user in enumerate(pre_df['user_id']):\n",
    "    list_users.append(int(pre_df['user_id'].values[i][1:]))\n",
    "    list_news.append(int(pre_df['news_id'].values[i][1:]))\n",
    "\n",
    "list_topics = pre_df[\"topic_id\"].apply(lambda value: topic_idx[value]).values.tolist()\n",
    "\n",
    "dict_data = {'user_id': list_users,\n",
    "             'news_id': list_news,\n",
    "             'topic_id': list_topics}\n",
    "\n",
    "df = pd.DataFrame(dict_data, columns= ['user_id', 'news_id', 'topic_id'])"
   ]
  },
  {
   "cell_type": "code",
   "execution_count": null,
   "metadata": {
    "colab": {
     "base_uri": "https://localhost:8080/",
     "height": 206
    },
    "id": "ojydLFZm8DG-",
    "outputId": "2bc4f848-4661-468d-eacf-6e1bc28e4f46"
   },
   "outputs": [
    {
     "data": {
      "text/html": [
       "\n",
       "  <div id=\"df-3edc8c1e-02a3-4d7e-a002-877682996235\">\n",
       "    <div class=\"colab-df-container\">\n",
       "      <div>\n",
       "<style scoped>\n",
       "    .dataframe tbody tr th:only-of-type {\n",
       "        vertical-align: middle;\n",
       "    }\n",
       "\n",
       "    .dataframe tbody tr th {\n",
       "        vertical-align: top;\n",
       "    }\n",
       "\n",
       "    .dataframe thead th {\n",
       "        text-align: right;\n",
       "    }\n",
       "</style>\n",
       "<table border=\"1\" class=\"dataframe\">\n",
       "  <thead>\n",
       "    <tr style=\"text-align: right;\">\n",
       "      <th></th>\n",
       "      <th>user_id</th>\n",
       "      <th>news_id</th>\n",
       "      <th>topic_id</th>\n",
       "    </tr>\n",
       "  </thead>\n",
       "  <tbody>\n",
       "    <tr>\n",
       "      <th>0</th>\n",
       "      <td>134050</td>\n",
       "      <td>12246</td>\n",
       "      <td>3</td>\n",
       "    </tr>\n",
       "    <tr>\n",
       "      <th>1</th>\n",
       "      <td>134050</td>\n",
       "      <td>128820</td>\n",
       "      <td>4</td>\n",
       "    </tr>\n",
       "    <tr>\n",
       "      <th>2</th>\n",
       "      <td>134050</td>\n",
       "      <td>119226</td>\n",
       "      <td>10</td>\n",
       "    </tr>\n",
       "    <tr>\n",
       "      <th>3</th>\n",
       "      <td>134050</td>\n",
       "      <td>4065</td>\n",
       "      <td>12</td>\n",
       "    </tr>\n",
       "    <tr>\n",
       "      <th>4</th>\n",
       "      <td>134050</td>\n",
       "      <td>67770</td>\n",
       "      <td>11</td>\n",
       "    </tr>\n",
       "  </tbody>\n",
       "</table>\n",
       "</div>\n",
       "      <button class=\"colab-df-convert\" onclick=\"convertToInteractive('df-3edc8c1e-02a3-4d7e-a002-877682996235')\"\n",
       "              title=\"Convert this dataframe to an interactive table.\"\n",
       "              style=\"display:none;\">\n",
       "        \n",
       "  <svg xmlns=\"http://www.w3.org/2000/svg\" height=\"24px\"viewBox=\"0 0 24 24\"\n",
       "       width=\"24px\">\n",
       "    <path d=\"M0 0h24v24H0V0z\" fill=\"none\"/>\n",
       "    <path d=\"M18.56 5.44l.94 2.06.94-2.06 2.06-.94-2.06-.94-.94-2.06-.94 2.06-2.06.94zm-11 1L8.5 8.5l.94-2.06 2.06-.94-2.06-.94L8.5 2.5l-.94 2.06-2.06.94zm10 10l.94 2.06.94-2.06 2.06-.94-2.06-.94-.94-2.06-.94 2.06-2.06.94z\"/><path d=\"M17.41 7.96l-1.37-1.37c-.4-.4-.92-.59-1.43-.59-.52 0-1.04.2-1.43.59L10.3 9.45l-7.72 7.72c-.78.78-.78 2.05 0 2.83L4 21.41c.39.39.9.59 1.41.59.51 0 1.02-.2 1.41-.59l7.78-7.78 2.81-2.81c.8-.78.8-2.07 0-2.86zM5.41 20L4 18.59l7.72-7.72 1.47 1.35L5.41 20z\"/>\n",
       "  </svg>\n",
       "      </button>\n",
       "      \n",
       "  <style>\n",
       "    .colab-df-container {\n",
       "      display:flex;\n",
       "      flex-wrap:wrap;\n",
       "      gap: 12px;\n",
       "    }\n",
       "\n",
       "    .colab-df-convert {\n",
       "      background-color: #E8F0FE;\n",
       "      border: none;\n",
       "      border-radius: 50%;\n",
       "      cursor: pointer;\n",
       "      display: none;\n",
       "      fill: #1967D2;\n",
       "      height: 32px;\n",
       "      padding: 0 0 0 0;\n",
       "      width: 32px;\n",
       "    }\n",
       "\n",
       "    .colab-df-convert:hover {\n",
       "      background-color: #E2EBFA;\n",
       "      box-shadow: 0px 1px 2px rgba(60, 64, 67, 0.3), 0px 1px 3px 1px rgba(60, 64, 67, 0.15);\n",
       "      fill: #174EA6;\n",
       "    }\n",
       "\n",
       "    [theme=dark] .colab-df-convert {\n",
       "      background-color: #3B4455;\n",
       "      fill: #D2E3FC;\n",
       "    }\n",
       "\n",
       "    [theme=dark] .colab-df-convert:hover {\n",
       "      background-color: #434B5C;\n",
       "      box-shadow: 0px 1px 3px 1px rgba(0, 0, 0, 0.15);\n",
       "      filter: drop-shadow(0px 1px 2px rgba(0, 0, 0, 0.3));\n",
       "      fill: #FFFFFF;\n",
       "    }\n",
       "  </style>\n",
       "\n",
       "      <script>\n",
       "        const buttonEl =\n",
       "          document.querySelector('#df-3edc8c1e-02a3-4d7e-a002-877682996235 button.colab-df-convert');\n",
       "        buttonEl.style.display =\n",
       "          google.colab.kernel.accessAllowed ? 'block' : 'none';\n",
       "\n",
       "        async function convertToInteractive(key) {\n",
       "          const element = document.querySelector('#df-3edc8c1e-02a3-4d7e-a002-877682996235');\n",
       "          const dataTable =\n",
       "            await google.colab.kernel.invokeFunction('convertToInteractive',\n",
       "                                                     [key], {});\n",
       "          if (!dataTable) return;\n",
       "\n",
       "          const docLinkHtml = 'Like what you see? Visit the ' +\n",
       "            '<a target=\"_blank\" href=https://colab.research.google.com/notebooks/data_table.ipynb>data table notebook</a>'\n",
       "            + ' to learn more about interactive tables.';\n",
       "          element.innerHTML = '';\n",
       "          dataTable['output_type'] = 'display_data';\n",
       "          await google.colab.output.renderOutput(dataTable, element);\n",
       "          const docLink = document.createElement('div');\n",
       "          docLink.innerHTML = docLinkHtml;\n",
       "          element.appendChild(docLink);\n",
       "        }\n",
       "      </script>\n",
       "    </div>\n",
       "  </div>\n",
       "  "
      ],
      "text/plain": [
       "   user_id  news_id  topic_id\n",
       "0   134050    12246         3\n",
       "1   134050   128820         4\n",
       "2   134050   119226        10\n",
       "3   134050     4065        12\n",
       "4   134050    67770        11"
      ]
     },
     "execution_count": 60,
     "metadata": {},
     "output_type": "execute_result"
    }
   ],
   "source": [
    "df.head()"
   ]
  },
  {
   "cell_type": "markdown",
   "metadata": {
    "id": "dMFeeWK3XDEh"
   },
   "source": [
    "# Graph dataframe\n",
    "\n",
    "## Once the final dataframe is created, it contains only numerical values about users, news and topics. The goal is to create the graphs for train and test now."
   ]
  },
  {
   "cell_type": "code",
   "execution_count": null,
   "metadata": {
    "id": "kgto7szZ_Mav"
   },
   "outputs": [],
   "source": [
    "train, test = train_test_split(df.values, test_size=0.2, random_state=16)\n",
    "train_df = pd.DataFrame(train, columns=df.columns)\n",
    "test_df = pd.DataFrame(test, columns=df.columns)"
   ]
  },
  {
   "cell_type": "code",
   "execution_count": null,
   "metadata": {
    "id": "x53q1sd9YbGa"
   },
   "outputs": [],
   "source": [
    "le_user = pp.LabelEncoder()\n",
    "le_item = pp.LabelEncoder()\n",
    "train_df['user_id_idx'] = le_user.fit_transform(train_df['user_id'].values)\n",
    "train_df['news_id_idx'] = le_item.fit_transform(train_df['news_id'].values)"
   ]
  },
  {
   "cell_type": "code",
   "execution_count": null,
   "metadata": {
    "colab": {
     "base_uri": "https://localhost:8080/"
    },
    "id": "sT_p_02P_PYW",
    "outputId": "c4205070-a12d-4c42-acd9-46f003b0963b"
   },
   "outputs": [
    {
     "name": "stdout",
     "output_type": "stream",
     "text": [
      "2905 12612\n",
      "19429\n"
     ]
    }
   ],
   "source": [
    "train_user_ids = train_df['user_id'].unique()\n",
    "train_news_ids = train_df['news_id'].unique()\n",
    "\n",
    "print(len(train_user_ids), len(train_news_ids))\n",
    "\n",
    "test_df = test_df[\n",
    "    (test_df['user_id'].isin(train_user_ids)) & \\\n",
    "    (test_df['news_id'].isin(train_news_ids))\n",
    "]\n",
    "print(len(test))"
   ]
  },
  {
   "cell_type": "code",
   "execution_count": null,
   "metadata": {
    "id": "vQre-b7PaPhE"
   },
   "outputs": [],
   "source": [
    "test_df['user_id_idx'] = le_user.transform(test_df['user_id'].values)\n",
    "test_df['news_id_idx'] = le_item.transform(test_df['news_id'].values)"
   ]
  },
  {
   "cell_type": "code",
   "execution_count": null,
   "metadata": {
    "colab": {
     "base_uri": "https://localhost:8080/"
    },
    "id": "iWV2jHVrB7CX",
    "outputId": "076288b7-44f0-4ddb-fe74-405a879c9241"
   },
   "outputs": [
    {
     "name": "stdout",
     "output_type": "stream",
     "text": [
      "Number of Unique Users :  2905\n",
      "Number of unique News :  12612\n"
     ]
    }
   ],
   "source": [
    "n_users = train_df['user_id_idx'].nunique()\n",
    "n_news = train_df['news_id_idx'].nunique()\n",
    "print(\"Number of Unique Users : \", n_users)\n",
    "print(\"Number of unique News : \", n_news)"
   ]
  },
  {
   "cell_type": "code",
   "execution_count": null,
   "metadata": {
    "colab": {
     "base_uri": "https://localhost:8080/",
     "height": 206
    },
    "id": "YlCJNCN9_f0k",
    "outputId": "41f4ba7d-83a0-462d-b93f-f8acca8fc1ae"
   },
   "outputs": [
    {
     "data": {
      "text/html": [
       "\n",
       "  <div id=\"df-b77fecca-d7c7-4ef6-b662-154f8c73116c\">\n",
       "    <div class=\"colab-df-container\">\n",
       "      <div>\n",
       "<style scoped>\n",
       "    .dataframe tbody tr th:only-of-type {\n",
       "        vertical-align: middle;\n",
       "    }\n",
       "\n",
       "    .dataframe tbody tr th {\n",
       "        vertical-align: top;\n",
       "    }\n",
       "\n",
       "    .dataframe thead th {\n",
       "        text-align: right;\n",
       "    }\n",
       "</style>\n",
       "<table border=\"1\" class=\"dataframe\">\n",
       "  <thead>\n",
       "    <tr style=\"text-align: right;\">\n",
       "      <th></th>\n",
       "      <th>user_id</th>\n",
       "      <th>news_id</th>\n",
       "      <th>topic_id</th>\n",
       "      <th>user_id_idx</th>\n",
       "      <th>news_id_idx</th>\n",
       "    </tr>\n",
       "  </thead>\n",
       "  <tbody>\n",
       "    <tr>\n",
       "      <th>0</th>\n",
       "      <td>337670</td>\n",
       "      <td>54393</td>\n",
       "      <td>2</td>\n",
       "      <td>1207</td>\n",
       "      <td>5262</td>\n",
       "    </tr>\n",
       "    <tr>\n",
       "      <th>1</th>\n",
       "      <td>134982</td>\n",
       "      <td>454</td>\n",
       "      <td>13</td>\n",
       "      <td>489</td>\n",
       "      <td>47</td>\n",
       "    </tr>\n",
       "    <tr>\n",
       "      <th>2</th>\n",
       "      <td>28159</td>\n",
       "      <td>78719</td>\n",
       "      <td>6</td>\n",
       "      <td>107</td>\n",
       "      <td>7593</td>\n",
       "    </tr>\n",
       "    <tr>\n",
       "      <th>3</th>\n",
       "      <td>274691</td>\n",
       "      <td>127001</td>\n",
       "      <td>15</td>\n",
       "      <td>978</td>\n",
       "      <td>12300</td>\n",
       "    </tr>\n",
       "    <tr>\n",
       "      <th>4</th>\n",
       "      <td>728033</td>\n",
       "      <td>43766</td>\n",
       "      <td>8</td>\n",
       "      <td>2711</td>\n",
       "      <td>4260</td>\n",
       "    </tr>\n",
       "  </tbody>\n",
       "</table>\n",
       "</div>\n",
       "      <button class=\"colab-df-convert\" onclick=\"convertToInteractive('df-b77fecca-d7c7-4ef6-b662-154f8c73116c')\"\n",
       "              title=\"Convert this dataframe to an interactive table.\"\n",
       "              style=\"display:none;\">\n",
       "        \n",
       "  <svg xmlns=\"http://www.w3.org/2000/svg\" height=\"24px\"viewBox=\"0 0 24 24\"\n",
       "       width=\"24px\">\n",
       "    <path d=\"M0 0h24v24H0V0z\" fill=\"none\"/>\n",
       "    <path d=\"M18.56 5.44l.94 2.06.94-2.06 2.06-.94-2.06-.94-.94-2.06-.94 2.06-2.06.94zm-11 1L8.5 8.5l.94-2.06 2.06-.94-2.06-.94L8.5 2.5l-.94 2.06-2.06.94zm10 10l.94 2.06.94-2.06 2.06-.94-2.06-.94-.94-2.06-.94 2.06-2.06.94z\"/><path d=\"M17.41 7.96l-1.37-1.37c-.4-.4-.92-.59-1.43-.59-.52 0-1.04.2-1.43.59L10.3 9.45l-7.72 7.72c-.78.78-.78 2.05 0 2.83L4 21.41c.39.39.9.59 1.41.59.51 0 1.02-.2 1.41-.59l7.78-7.78 2.81-2.81c.8-.78.8-2.07 0-2.86zM5.41 20L4 18.59l7.72-7.72 1.47 1.35L5.41 20z\"/>\n",
       "  </svg>\n",
       "      </button>\n",
       "      \n",
       "  <style>\n",
       "    .colab-df-container {\n",
       "      display:flex;\n",
       "      flex-wrap:wrap;\n",
       "      gap: 12px;\n",
       "    }\n",
       "\n",
       "    .colab-df-convert {\n",
       "      background-color: #E8F0FE;\n",
       "      border: none;\n",
       "      border-radius: 50%;\n",
       "      cursor: pointer;\n",
       "      display: none;\n",
       "      fill: #1967D2;\n",
       "      height: 32px;\n",
       "      padding: 0 0 0 0;\n",
       "      width: 32px;\n",
       "    }\n",
       "\n",
       "    .colab-df-convert:hover {\n",
       "      background-color: #E2EBFA;\n",
       "      box-shadow: 0px 1px 2px rgba(60, 64, 67, 0.3), 0px 1px 3px 1px rgba(60, 64, 67, 0.15);\n",
       "      fill: #174EA6;\n",
       "    }\n",
       "\n",
       "    [theme=dark] .colab-df-convert {\n",
       "      background-color: #3B4455;\n",
       "      fill: #D2E3FC;\n",
       "    }\n",
       "\n",
       "    [theme=dark] .colab-df-convert:hover {\n",
       "      background-color: #434B5C;\n",
       "      box-shadow: 0px 1px 3px 1px rgba(0, 0, 0, 0.15);\n",
       "      filter: drop-shadow(0px 1px 2px rgba(0, 0, 0, 0.3));\n",
       "      fill: #FFFFFF;\n",
       "    }\n",
       "  </style>\n",
       "\n",
       "      <script>\n",
       "        const buttonEl =\n",
       "          document.querySelector('#df-b77fecca-d7c7-4ef6-b662-154f8c73116c button.colab-df-convert');\n",
       "        buttonEl.style.display =\n",
       "          google.colab.kernel.accessAllowed ? 'block' : 'none';\n",
       "\n",
       "        async function convertToInteractive(key) {\n",
       "          const element = document.querySelector('#df-b77fecca-d7c7-4ef6-b662-154f8c73116c');\n",
       "          const dataTable =\n",
       "            await google.colab.kernel.invokeFunction('convertToInteractive',\n",
       "                                                     [key], {});\n",
       "          if (!dataTable) return;\n",
       "\n",
       "          const docLinkHtml = 'Like what you see? Visit the ' +\n",
       "            '<a target=\"_blank\" href=https://colab.research.google.com/notebooks/data_table.ipynb>data table notebook</a>'\n",
       "            + ' to learn more about interactive tables.';\n",
       "          element.innerHTML = '';\n",
       "          dataTable['output_type'] = 'display_data';\n",
       "          await google.colab.output.renderOutput(dataTable, element);\n",
       "          const docLink = document.createElement('div');\n",
       "          docLink.innerHTML = docLinkHtml;\n",
       "          element.appendChild(docLink);\n",
       "        }\n",
       "      </script>\n",
       "    </div>\n",
       "  </div>\n",
       "  "
      ],
      "text/plain": [
       "   user_id  news_id  topic_id  user_id_idx  news_id_idx\n",
       "0   337670    54393         2         1207         5262\n",
       "1   134982      454        13          489           47\n",
       "2    28159    78719         6          107         7593\n",
       "3   274691   127001        15          978        12300\n",
       "4   728033    43766         8         2711         4260"
      ]
     },
     "execution_count": 66,
     "metadata": {},
     "output_type": "execute_result"
    }
   ],
   "source": [
    "train_df.head()"
   ]
  },
  {
   "cell_type": "markdown",
   "metadata": {
    "id": "rBTBCeQzXS7b"
   },
   "source": [
    "## The final dataframe has ids that are starting by 0 for users and news. It means some have shared ids which is not possible. The trick is to add the number of users to the ids of the news to be sure they are all different ids as there are not 10k news."
   ]
  },
  {
   "cell_type": "code",
   "execution_count": null,
   "metadata": {
    "colab": {
     "base_uri": "https://localhost:8080/"
    },
    "id": "BjbduLUDAbnc",
    "outputId": "95312bf6-0a4f-4577-d7bd-c29e11b13ca9"
   },
   "outputs": [
    {
     "data": {
      "text/plain": [
       "(tensor([ 314,  503,  665,  758, 1131, 1424, 1454, 1598, 1604, 1690, 1828, 2000,\n",
       "         2079, 2120, 2293, 2620], device='cuda:0'),\n",
       " tensor([ 5148, 13960,  7448,  7194, 12248, 14660,  4478,  7251, 10625,  7573,\n",
       "          7095,  3808, 14366,  6895,  5954,  7661], device='cuda:0'),\n",
       " tensor([11425, 13069,  3108,  4296, 11682, 15339,  6001, 15363,  3142,  5131,\n",
       "          7138,  7341, 11032,  4257, 10396, 13559], device='cuda:0'))"
      ]
     },
     "execution_count": 67,
     "metadata": {},
     "output_type": "execute_result"
    }
   ],
   "source": [
    "def data_loader(data, batch_size, n_usr, n_itm):\n",
    "\n",
    "    def sample_neg(x):\n",
    "        while True:\n",
    "            neg_id = random.randint(0, n_itm - 1)\n",
    "            if neg_id not in x:\n",
    "                return neg_id\n",
    "\n",
    "    interected_news_df = data.groupby('user_id_idx')['news_id_idx'].apply(list).reset_index()\n",
    "    indices = [x for x in range(n_usr)] # data['user_id'].unique()]\n",
    "\n",
    "    if n_usr < batch_size:\n",
    "        users = [random.choice(indices) for _ in range(batch_size)]\n",
    "    else:\n",
    "        users = random.sample(indices, batch_size)\n",
    "    users.sort()\n",
    "    users_df = pd.DataFrame(users,columns = ['users'])\n",
    "\n",
    "    interected_news_df = pd.merge(interected_news_df, users_df, how = 'right', left_on = 'user_id_idx', right_on = 'users')\n",
    "    pos_news = interected_news_df['news_id_idx'].apply(lambda x : random.choice(x)).values\n",
    "    neg_news = interected_news_df['news_id_idx'].apply(lambda x: sample_neg(x)).values\n",
    "\n",
    "    return (\n",
    "        torch.LongTensor(list(users)).to(device), \n",
    "        torch.LongTensor(list(pos_news)).to(device) + n_usr, \n",
    "        torch.LongTensor(list(neg_news)).to(device) + n_usr\n",
    "    )\n",
    "\n",
    "data_loader(train_df, 16, n_users, n_news)"
   ]
  },
  {
   "cell_type": "markdown",
   "metadata": {
    "id": "_VE-7hVGYEfV"
   },
   "source": [
    "# Graph construction\n",
    "\n",
    "## The graph we want is undirected and heterogeneous. The heterogeneous part is obtained by adding the number of users to the index of users so that no ids are shared by users and news. The undirected part is obtained by reversing the connections created in one direction by replicating them the other way around."
   ]
  },
  {
   "cell_type": "code",
   "execution_count": null,
   "metadata": {
    "colab": {
     "base_uri": "https://localhost:8080/"
    },
    "id": "ZjMXPzzYGuT2",
    "outputId": "caf04082-06fd-4643-d21d-3a249bab4deb"
   },
   "outputs": [
    {
     "data": {
      "text/plain": [
       "tensor([[ 1207,   489,   107,  ..., 10335,  7802, 12244],\n",
       "        [ 8167,  2952, 10498,  ...,  2457,  1936,  2881]], device='cuda:0')"
      ]
     },
     "execution_count": 68,
     "metadata": {},
     "output_type": "execute_result"
    }
   ],
   "source": [
    "u_t = torch.LongTensor(train_df.user_id_idx)\n",
    "i_t = torch.LongTensor(train_df.news_id_idx) + n_users\n",
    "\n",
    "train_edge_index = torch.stack((\n",
    "    torch.cat([u_t, i_t]),\n",
    "    torch.cat([i_t, u_t])\n",
    ")).to(device)\n",
    "train_edge_index"
   ]
  },
  {
   "cell_type": "markdown",
   "metadata": {
    "id": "_JdHzxA7YqSU"
   },
   "source": [
    "## The check that is made here shows that the first connection is the reverse of the middle one to obtain the undirected graph."
   ]
  },
  {
   "cell_type": "code",
   "execution_count": null,
   "metadata": {
    "colab": {
     "base_uri": "https://localhost:8080/"
    },
    "id": "qef9oUxHGxyy",
    "outputId": "194a7694-2d9c-41ff-fe87-d686ce0da8cf"
   },
   "outputs": [
    {
     "data": {
      "text/plain": [
       "(tensor([12244,  2881], device='cuda:0'),\n",
       " tensor([1207, 8167], device='cuda:0'))"
      ]
     },
     "execution_count": 69,
     "metadata": {},
     "output_type": "execute_result"
    }
   ],
   "source": [
    "train_edge_index[:,-1], train_edge_index[:, 0]"
   ]
  },
  {
   "cell_type": "code",
   "execution_count": null,
   "metadata": {
    "colab": {
     "base_uri": "https://localhost:8080/"
    },
    "id": "YPp2-LbKZb6R",
    "outputId": "837fd4b3-fba6-485b-a517-291d0c93be3d"
   },
   "outputs": [
    {
     "data": {
      "text/plain": [
       "(tensor([ 2881, 12244], device='cuda:0'),\n",
       " tensor([8167, 1207], device='cuda:0'))"
      ]
     },
     "execution_count": 70,
     "metadata": {},
     "output_type": "execute_result"
    }
   ],
   "source": [
    "train_edge_index[:, len(train)-1], train_edge_index[:, len(train)]"
   ]
  },
  {
   "cell_type": "markdown",
   "metadata": {
    "id": "mqOksAmqZ4R1"
   },
   "source": [
    "# Graph layer\n",
    "\n",
    "## The model can be built in the PyTorch representation. First, the LightGCNConv layer is created. It is inherited from the MessagePassing class of PyTorch Geometric. This class describes how a message is passed through the graph. Then, it is possible to choose the aggregation function that explains how to add all the messages from the nodes and thus build the embeddings."
   ]
  },
  {
   "cell_type": "code",
   "execution_count": null,
   "metadata": {
    "id": "X7xlNYSc090w"
   },
   "outputs": [],
   "source": [
    "class LightGCNConv(MessagePassing):\n",
    "    def __init__(self, **kwargs):  \n",
    "        super().__init__(aggr='add')\n",
    "\n",
    "    def forward(self, x, edge_index):\n",
    "        # Compute normalization\n",
    "        from_, to_ = edge_index\n",
    "        deg = degree(to_, x.size(0), dtype=x.dtype)\n",
    "        deg_inv_sqrt = deg.pow(-0.5)\n",
    "        deg_inv_sqrt[deg_inv_sqrt == float('inf')] = 0\n",
    "        norm = deg_inv_sqrt[from_] * deg_inv_sqrt[to_]\n",
    "\n",
    "        # Start propagating messages (no update after aggregation)\n",
    "        return self.propagate(edge_index, x=x, norm=norm)\n",
    "\n",
    "    def message(self, x_j, norm):\n",
    "        return norm.view(-1, 1) * x_j"
   ]
  },
  {
   "cell_type": "markdown",
   "metadata": {
    "id": "XHAH6Amsa9Zs"
   },
   "source": [
    "# Model\n",
    "\n",
    "## The recommendation system is built upon the Graph layer. The embeddings are initialized with a normal distribution. Then, the various functions are used to interact with the model to obtain the loss, train and evalute it."
   ]
  },
  {
   "cell_type": "code",
   "execution_count": null,
   "metadata": {
    "id": "nrj8yAAB1JYG"
   },
   "outputs": [],
   "source": [
    "class RecSysGNN(nn.Module):\n",
    "    def __init__(\n",
    "        self,\n",
    "        latent_dim, \n",
    "        num_layers,\n",
    "        num_users,\n",
    "        num_news\n",
    "    ):\n",
    "        super(RecSysGNN, self).__init__()\n",
    "\n",
    "        # self.model = model\n",
    "        self.embedding = nn.Embedding(num_users + num_news, latent_dim)\n",
    "        self.convs = nn.ModuleList(LightGCNConv() for _ in range(num_layers))\n",
    "\n",
    "        self.init_parameters()\n",
    "\n",
    "    def init_parameters(self):\n",
    "        # Authors of LightGCN report higher results with normal initialization\n",
    "        nn.init.normal_(self.embedding.weight, std=0.1) \n",
    "\n",
    "    def forward(self, edge_index):\n",
    "        emb0 = self.embedding.weight\n",
    "        embs = [emb0]\n",
    "\n",
    "        emb = emb0\n",
    "        for conv in self.convs:\n",
    "            emb = conv(x=emb, edge_index=edge_index)\n",
    "            embs.append(emb)\n",
    "\n",
    "        out = (torch.mean(torch.stack(embs, dim=0), dim=0))\n",
    "\n",
    "        return emb0, out\n",
    "\n",
    "    def encode_minibatch(self, users, pos_news, neg_news, edge_index):\n",
    "        emb0, out = self(edge_index)\n",
    "        return (\n",
    "            out[users], \n",
    "            out[pos_news], \n",
    "            out[neg_news], \n",
    "            emb0[users],\n",
    "            emb0[pos_news],\n",
    "            emb0[neg_news]\n",
    "        )"
   ]
  },
  {
   "cell_type": "code",
   "execution_count": null,
   "metadata": {
    "id": "VGMYKG8b2VwR"
   },
   "outputs": [],
   "source": [
    "def compute_bpr_loss(users, users_emb, pos_emb, neg_emb, user_emb0,  pos_emb0, neg_emb0):\n",
    "    # compute loss from initial embeddings, used for regulization\n",
    "    reg_loss = (1 / 2) * (\n",
    "        user_emb0.norm().pow(2) + \n",
    "        pos_emb0.norm().pow(2)  +\n",
    "        neg_emb0.norm().pow(2)\n",
    "    ) / float(len(users))\n",
    "\n",
    "      # compute BPR loss from user, positive news, and negative news embeddings\n",
    "    pos_scores = torch.mul(users_emb, pos_emb).sum(dim=1)\n",
    "    neg_scores = torch.mul(users_emb, neg_emb).sum(dim=1)\n",
    "\n",
    "    bpr_loss = torch.mean(F.softplus(neg_scores - pos_scores))\n",
    "\n",
    "    return bpr_loss, reg_loss"
   ]
  },
  {
   "cell_type": "code",
   "execution_count": null,
   "metadata": {
    "id": "k7cP1RXk2ZEs"
   },
   "outputs": [],
   "source": [
    "def get_metrics(user_Embed_wts, news_Embed_wts, n_users, n_news, train_data, test_data, K):\n",
    "    test_user_ids = torch.LongTensor(test_data['user_id_idx'].unique())\n",
    "    # compute the score of all user-news pairs\n",
    "    relevance_score = torch.matmul(user_Embed_wts, torch.transpose(news_Embed_wts,0, 1))\n",
    "\n",
    "    # create dense tensor of all user-news interactions\n",
    "    i = torch.stack((\n",
    "        torch.LongTensor(train_df['user_id_idx'].values),\n",
    "        toch.LongTensor(train_df['news_id_idx'].values)\n",
    "    ))\n",
    "    v = torch.ones((len(train_df)), dtype=torch.float64)\n",
    "    interactions_t = torch.sparse.FloatTensor(i, v, (n_users, n_news)).to_dense().to(device)\n",
    "\n",
    "    # mask out training user-news interactions from metric computation\n",
    "    relevance_score = torch.mul(relevance_score, (1 - interactions_t))\n",
    "\n",
    "    # compute top scoring news for each user\n",
    "    topk_relevance_indices = torch.topk(relevance_score, K).indices\n",
    "    topk_relevance_indices_df = pd.DataFrame(topk_relevance_indices.cpu().numpy(),columns =['top_indx_'+str(x+1) for x in range(K)])\n",
    "    topk_relevance_indices_df['user_ID'] = topk_relevance_indices_df.index\n",
    "    topk_relevance_indices_df['top_rlvnt_itm'] = topk_relevance_indices_df[['top_indx_'+str(x+1) for x in range(K)]].values.tolist()\n",
    "    topk_relevance_indices_df = topk_relevance_indices_df[['user_ID','top_rlvnt_itm']]\n",
    "\n",
    "    # measure overlap between recommended (top-scoring) and held-out user-news \n",
    "    # interactions\n",
    "    test_interacted_news = test_data.groupby('user_id_idx')['news_id_idx'].apply(list).reset_index()\n",
    "    metrics_df = pd.merge(test_interacted_news,topk_relevance_indices_df, how= 'left', left_on = 'user_id_idx',right_on = ['user_ID'])\n",
    "    metrics_df['intrsctn_itm'] = [list(set(a).intersection(b)) for a, b in zip(metrics_df.news_id_idx, metrics_df.top_rlvnt_itm)]\n",
    "\n",
    "    metrics_df['recall'] = metrics_df.apply(lambda x : len(x['intrsctn_itm'])/len(x['news_id_idx']), axis = 1) \n",
    "    metrics_df['precision'] = metrics_df.apply(lambda x : len(x['intrsctn_itm'])/K, axis = 1)\n",
    "\n",
    "    return metrics_df['recall'].mean(), metrics_df['precision'].mean()"
   ]
  },
  {
   "cell_type": "markdown",
   "metadata": {
    "id": "wb2e3dR8ccOx"
   },
   "source": [
    "## The parameters are used to initialize the model. The important parameters are K for the metrics@k and latent_dim for the dimension of the hidden layers."
   ]
  },
  {
   "cell_type": "code",
   "execution_count": null,
   "metadata": {
    "id": "8CRoRpc5211M"
   },
   "outputs": [],
   "source": [
    "latent_dim = 64\n",
    "n_layers = 3 \n",
    "\n",
    "EPOCHS = 50\n",
    "BATCH_SIZE = 1024\n",
    "DECAY = 0.0001\n",
    "LR = 0.005 \n",
    "K = 10"
   ]
  },
  {
   "cell_type": "code",
   "execution_count": null,
   "metadata": {
    "id": "F5SuDSAj24wm"
   },
   "outputs": [],
   "source": [
    "def train_and_eval(model, optimizer, train_df):\n",
    "    loss_list_epoch = []\n",
    "    bpr_loss_list_epoch = []\n",
    "    reg_loss_list_epoch = []\n",
    "\n",
    "    recall_list = []\n",
    "    precision_list = []\n",
    "\n",
    "    for epoch in tqdm(range(EPOCHS)):\n",
    "        n_batch = int(len(train)/BATCH_SIZE)\n",
    "    \n",
    "        final_loss_list = []\n",
    "        bpr_loss_list = []\n",
    "        reg_loss_list = []\n",
    "    \n",
    "        model.train()\n",
    "        for batch_idx in range(n_batch):\n",
    "\n",
    "            optimizer.zero_grad()\n",
    "\n",
    "            users, pos_news, neg_news = data_loader(train_df, BATCH_SIZE, n_users, n_news)\n",
    "            users_emb, pos_emb, neg_emb, userEmb0,  posEmb0, negEmb0 = model.encode_minibatch(users, pos_news, neg_news, train_edge_index)\n",
    "\n",
    "            bpr_loss, reg_loss = compute_bpr_loss(\n",
    "                users, users_emb, pos_emb, neg_emb, userEmb0,  posEmb0, negEmb0\n",
    "            )\n",
    "            reg_loss = DECAY * reg_loss\n",
    "            final_loss = bpr_loss + reg_loss\n",
    "\n",
    "            final_loss.backward()\n",
    "            optimizer.step()\n",
    "\n",
    "            final_loss_list.append(final_loss.item())\n",
    "            bpr_loss_list.append(bpr_loss.item())\n",
    "            reg_loss_list.append(reg_loss.item())\n",
    "\n",
    "        model.eval()\n",
    "        with torch.no_grad():\n",
    "            _, out = model(train_edge_index)\n",
    "            final_user_Embed, final_news_Embed = torch.split(out, (n_users, n_news))\n",
    "            test_topK_recall,  test_topK_precision = get_metrics(\n",
    "                final_user_Embed, final_news_Embed, n_users, n_news, train_df, test_df, K\n",
    "            )\n",
    "\n",
    "        loss_list_epoch.append(round(np.mean(final_loss_list),4))\n",
    "        bpr_loss_list_epoch.append(round(np.mean(bpr_loss_list),4))\n",
    "        reg_loss_list_epoch.append(round(np.mean(reg_loss_list),4))\n",
    "\n",
    "        recall_list.append(round(test_topK_recall,4))\n",
    "        precision_list.append(round(test_topK_precision,4))\n",
    "\n",
    "    return (\n",
    "        loss_list_epoch, \n",
    "        bpr_loss_list_epoch, \n",
    "        reg_loss_list_epoch, \n",
    "        recall_list, \n",
    "        precision_list\n",
    "    )"
   ]
  },
  {
   "cell_type": "markdown",
   "metadata": {
    "id": "bPep7_EOdD5g"
   },
   "source": [
    "# Evaluation\n",
    "\n",
    "## Now that all the processing is made, the model can be created and tested on the data that was preprocessed. It is possible to test and evaluate it."
   ]
  },
  {
   "cell_type": "code",
   "execution_count": null,
   "metadata": {
    "colab": {
     "base_uri": "https://localhost:8080/"
    },
    "id": "s3cvx3GwDckw",
    "outputId": "ffe6aad6-5c98-4e50-c611-89f08626e21d"
   },
   "outputs": [
    {
     "name": "stdout",
     "output_type": "stream",
     "text": [
      "Size of Learnable Embedding :  [torch.Size([15517, 64])]\n"
     ]
    }
   ],
   "source": [
    "lightgcn = RecSysGNN(\n",
    "    latent_dim=latent_dim, \n",
    "    num_layers=n_layers,\n",
    "    num_users=n_users,\n",
    "    num_news=n_news\n",
    ")\n",
    "lightgcn.to(device)\n",
    "\n",
    "optimizer = torch.optim.Adam(lightgcn.parameters(), lr=LR)\n",
    "print(\"Size of Learnable Embedding : \", [x.shape for x in list(lightgcn.parameters())])"
   ]
  },
  {
   "cell_type": "code",
   "execution_count": null,
   "metadata": {
    "colab": {
     "base_uri": "https://localhost:8080/",
     "height": 49,
     "referenced_widgets": [
      "6a023fd8f0b8454bb319a5583366fca4",
      "810788c1146b4f789916c31608733a8e",
      "6bf4e7aa87174418a457e9073e179a50",
      "c66d73c0530e491ebc9ceb0f645d977c",
      "0a9835e22e504ed9b532222bb52a6832",
      "1a773290db1e4aeb88a7c18d1e65e7c8",
      "78c771c04c154a15b8093cc8d30496be",
      "2c29d159534b43cc9a80213281b58e57",
      "2d095d9c09e745ddb1957a318bc5ab64",
      "5173082109c848b6b086c0928dea68c8",
      "728cfc7c06f44fa4967dc052615c552e"
     ]
    },
    "id": "nDnClPDpDptk",
    "outputId": "91b71e77-52ce-4470-e4b4-4cd8f3e291b6"
   },
   "outputs": [
    {
     "data": {
      "application/vnd.jupyter.widget-view+json": {
       "model_id": "6a023fd8f0b8454bb319a5583366fca4",
       "version_major": 2,
       "version_minor": 0
      },
      "text/plain": [
       "  0%|          | 0/50 [00:00<?, ?it/s]"
      ]
     },
     "metadata": {},
     "output_type": "display_data"
    }
   ],
   "source": [
    "light_loss, light_bpr, light_reg, light_recall, light_precision = train_and_eval(lightgcn, optimizer, train_df)"
   ]
  },
  {
   "cell_type": "code",
   "execution_count": null,
   "metadata": {
    "id": "2ZSltFAIDuj7"
   },
   "outputs": [],
   "source": [
    "epoch_list = [(i+1) for i in range(EPOCHS)]"
   ]
  },
  {
   "cell_type": "markdown",
   "metadata": {
    "id": "8hlA6OzYdjCb"
   },
   "source": [
    "## The model is learning meaning there is something that can be done with this graph. However, it is not enough for the needs. Various leads include using the whole dataset, change the aggreaion function, study other graph layers."
   ]
  },
  {
   "cell_type": "code",
   "execution_count": null,
   "metadata": {
    "colab": {
     "base_uri": "https://localhost:8080/",
     "height": 296
    },
    "id": "3ruxVm8yVw5F",
    "outputId": "d4166586-43f8-43bc-ba04-5a3be0480fd5"
   },
   "outputs": [
    {
     "data": {
      "text/plain": [
       "<matplotlib.legend.Legend at 0x7eff878389d0>"
      ]
     },
     "execution_count": 100,
     "metadata": {},
     "output_type": "execute_result"
    },
    {
     "data": {
      "image/png": "[encoded data removed]",
      "text/plain": [
       "<Figure size 432x288 with 1 Axes>"
      ]
     },
     "metadata": {
      "needs_background": "light"
     },
     "output_type": "display_data"
    }
   ],
   "source": [
    "plt.plot(epoch_list, light_loss, label='Total Training Loss')\n",
    "plt.plot(epoch_list, light_bpr, label='BPR Training Loss')\n",
    "plt.plot(epoch_list, light_reg, label='Reg Training Loss')\n",
    "\n",
    "plt.xlabel('Epoch')\n",
    "plt.ylabel('Loss')\n",
    "plt.legend()"
   ]
  },
  {
   "cell_type": "code",
   "execution_count": null,
   "metadata": {
    "colab": {
     "base_uri": "https://localhost:8080/",
     "height": 296
    },
    "id": "9IhvacPlVxZA",
    "outputId": "fb977e9b-6ea9-49d4-9ccf-0ae306ff868f"
   },
   "outputs": [
    {
     "data": {
      "text/plain": [
       "<matplotlib.legend.Legend at 0x7eff68255c90>"
      ]
     },
     "execution_count": 101,
     "metadata": {},
     "output_type": "execute_result"
    },
    {
     "data": {
      "image/png": "[encoded data removed]",
      "text/plain": [
       "<Figure size 432x288 with 1 Axes>"
      ]
     },
     "metadata": {
      "needs_background": "light"
     },
     "output_type": "display_data"
    }
   ],
   "source": [
    "plt.plot(epoch_list, light_recall, label='Recall')\n",
    "plt.plot(epoch_list, light_precision, label='Precision')\n",
    "plt.xlabel('Epoch')\n",
    "plt.ylabel('Metrics')\n",
    "plt.legend()"
   ]
  },
  {
   "cell_type": "code",
   "execution_count": null,
   "metadata": {
    "colab": {
     "base_uri": "https://localhost:8080/"
    },
    "id": "NYSkqq-5cYG1",
    "outputId": "c86921a4-7baa-4396-f870-9b0e2e190495"
   },
   "outputs": [
    {
     "data": {
      "text/plain": [
       "(0.019, 0.0952)"
      ]
     },
     "execution_count": 102,
     "metadata": {},
     "output_type": "execute_result"
    }
   ],
   "source": [
    "max(light_precision), max(light_recall)"
   ]
  },
  {
   "cell_type": "code",
   "execution_count": null,
   "metadata": {
    "id": "plTodISVcYXf"
   },
   "outputs": [],
   "source": []
  }
 ],
 "metadata": {
  "accelerator": "GPU",
  "colab": {
   "collapsed_sections": [],
   "name": "GNN.ipynb",
   "provenance": []
  },
  "kernelspec": {
   "display_name": "Python 3",
   "language": "python",
   "name": "python3"
  },
  "language_info": {
   "codemirror_mode": {
    "name": "ipython",
    "version": 3
   },
   "file_extension": ".py",
   "mimetype": "text/x-python",
   "name": "python",
   "nbconvert_exporter": "python",
   "pygments_lexer": "ipython3",
   "version": "3.8.5"
  },
  "widgets": {
   "application/vnd.jupyter.widget-state+json": {
    "0a9835e22e504ed9b532222bb52a6832": {
     "model_module": "@jupyter-widgets/base",
     "model_module_version": "1.2.0",
     "model_name": "LayoutModel",
     "state": {
      "_model_module": "@jupyter-widgets/base",
      "_model_module_version": "1.2.0",
      "_model_name": "LayoutModel",
      "_view_count": null,
      "_view_module": "@jupyter-widgets/base",
      "_view_module_version": "1.2.0",
      "_view_name": "LayoutView",
      "align_content": null,
      "align_items": null,
      "align_self": null,
      "border": null,
      "bottom": null,
      "display": null,
      "flex": null,
      "flex_flow": null,
      "grid_area": null,
      "grid_auto_columns": null,
      "grid_auto_flow": null,
      "grid_auto_rows": null,
      "grid_column": null,
      "grid_gap": null,
      "grid_row": null,
      "grid_template_areas": null,
      "grid_template_columns": null,
      "grid_template_rows": null,
      "height": null,
      "justify_content": null,
      "justify_items": null,
      "left": null,
      "margin": null,
      "max_height": null,
      "max_width": null,
      "min_height": null,
      "min_width": null,
      "object_fit": null,
      "object_position": null,
      "order": null,
      "overflow": null,
      "overflow_x": null,
      "overflow_y": null,
      "padding": null,
      "right": null,
      "top": null,
      "visibility": null,
      "width": null
     }
    },
    "1a773290db1e4aeb88a7c18d1e65e7c8": {
     "model_module": "@jupyter-widgets/base",
     "model_module_version": "1.2.0",
     "model_name": "LayoutModel",
     "state": {
      "_model_module": "@jupyter-widgets/base",
      "_model_module_version": "1.2.0",
      "_model_name": "LayoutModel",
      "_view_count": null,
      "_view_module": "@jupyter-widgets/base",
      "_view_module_version": "1.2.0",
      "_view_name": "LayoutView",
      "align_content": null,
      "align_items": null,
      "align_self": null,
      "border": null,
      "bottom": null,
      "display": null,
      "flex": null,
      "flex_flow": null,
      "grid_area": null,
      "grid_auto_columns": null,
      "grid_auto_flow": null,
      "grid_auto_rows": null,
      "grid_column": null,
      "grid_gap": null,
      "grid_row": null,
      "grid_template_areas": null,
      "grid_template_columns": null,
      "grid_template_rows": null,
      "height": null,
      "justify_content": null,
      "justify_items": null,
      "left": null,
      "margin": null,
      "max_height": null,
      "max_width": null,
      "min_height": null,
      "min_width": null,
      "object_fit": null,
      "object_position": null,
      "order": null,
      "overflow": null,
      "overflow_x": null,
      "overflow_y": null,
      "padding": null,
      "right": null,
      "top": null,
      "visibility": null,
      "width": null
     }
    },
    "2c29d159534b43cc9a80213281b58e57": {
     "model_module": "@jupyter-widgets/base",
     "model_module_version": "1.2.0",
     "model_name": "LayoutModel",
     "state": {
      "_model_module": "@jupyter-widgets/base",
      "_model_module_version": "1.2.0",
      "_model_name": "LayoutModel",
      "_view_count": null,
      "_view_module": "@jupyter-widgets/base",
      "_view_module_version": "1.2.0",
      "_view_name": "LayoutView",
      "align_content": null,
      "align_items": null,
      "align_self": null,
      "border": null,
      "bottom": null,
      "display": null,
      "flex": null,
      "flex_flow": null,
      "grid_area": null,
      "grid_auto_columns": null,
      "grid_auto_flow": null,
      "grid_auto_rows": null,
      "grid_column": null,
      "grid_gap": null,
      "grid_row": null,
      "grid_template_areas": null,
      "grid_template_columns": null,
      "grid_template_rows": null,
      "height": null,
      "justify_content": null,
      "justify_items": null,
      "left": null,
      "margin": null,
      "max_height": null,
      "max_width": null,
      "min_height": null,
      "min_width": null,
      "object_fit": null,
      "object_position": null,
      "order": null,
      "overflow": null,
      "overflow_x": null,
      "overflow_y": null,
      "padding": null,
      "right": null,
      "top": null,
      "visibility": null,
      "width": null
     }
    },
    "2d095d9c09e745ddb1957a318bc5ab64": {
     "model_module": "@jupyter-widgets/controls",
     "model_module_version": "1.5.0",
     "model_name": "ProgressStyleModel",
     "state": {
      "_model_module": "@jupyter-widgets/controls",
      "_model_module_version": "1.5.0",
      "_model_name": "ProgressStyleModel",
      "_view_count": null,
      "_view_module": "@jupyter-widgets/base",
      "_view_module_version": "1.2.0",
      "_view_name": "StyleView",
      "bar_color": null,
      "description_width": ""
     }
    },
    "355b0e7295d04379bc0385c3241bdc69": {
     "model_module": "@jupyter-widgets/controls",
     "model_module_version": "1.5.0",
     "model_name": "HTMLModel",
     "state": {
      "_dom_classes": [],
      "_model_module": "@jupyter-widgets/controls",
      "_model_module_version": "1.5.0",
      "_model_name": "HTMLModel",
      "_view_count": null,
      "_view_module": "@jupyter-widgets/controls",
      "_view_module_version": "1.5.0",
      "_view_name": "HTMLView",
      "description": "",
      "description_tooltip": null,
      "layout": "IPY_MODEL_84f3b742622842e989d456aeabcf5321",
      "placeholder": "​",
      "style": "IPY_MODEL_6a743b626d50453b83c171aeec542cb0",
      "value": " 3000/3000 [09:59&lt;00:00,  4.97it/s]"
     }
    },
    "428a18f77fab468b86ebb3611a5151e1": {
     "model_module": "@jupyter-widgets/controls",
     "model_module_version": "1.5.0",
     "model_name": "DescriptionStyleModel",
     "state": {
      "_model_module": "@jupyter-widgets/controls",
      "_model_module_version": "1.5.0",
      "_model_name": "DescriptionStyleModel",
      "_view_count": null,
      "_view_module": "@jupyter-widgets/base",
      "_view_module_version": "1.2.0",
      "_view_name": "StyleView",
      "description_width": ""
     }
    },
    "479afaa7d2254729886ffff0646dddea": {
     "model_module": "@jupyter-widgets/controls",
     "model_module_version": "1.5.0",
     "model_name": "HTMLModel",
     "state": {
      "_dom_classes": [],
      "_model_module": "@jupyter-widgets/controls",
      "_model_module_version": "1.5.0",
      "_model_name": "HTMLModel",
      "_view_count": null,
      "_view_module": "@jupyter-widgets/controls",
      "_view_module_version": "1.5.0",
      "_view_name": "HTMLView",
      "description": "",
      "description_tooltip": null,
      "layout": "IPY_MODEL_ba6d267fa72e49d8a6df821ae63c6f42",
      "placeholder": "​",
      "style": "IPY_MODEL_428a18f77fab468b86ebb3611a5151e1",
      "value": "100%"
     }
    },
    "47b49fa7c9db4170ba0cda1e37b907a9": {
     "model_module": "@jupyter-widgets/base",
     "model_module_version": "1.2.0",
     "model_name": "LayoutModel",
     "state": {
      "_model_module": "@jupyter-widgets/base",
      "_model_module_version": "1.2.0",
      "_model_name": "LayoutModel",
      "_view_count": null,
      "_view_module": "@jupyter-widgets/base",
      "_view_module_version": "1.2.0",
      "_view_name": "LayoutView",
      "align_content": null,
      "align_items": null,
      "align_self": null,
      "border": null,
      "bottom": null,
      "display": null,
      "flex": null,
      "flex_flow": null,
      "grid_area": null,
      "grid_auto_columns": null,
      "grid_auto_flow": null,
      "grid_auto_rows": null,
      "grid_column": null,
      "grid_gap": null,
      "grid_row": null,
      "grid_template_areas": null,
      "grid_template_columns": null,
      "grid_template_rows": null,
      "height": null,
      "justify_content": null,
      "justify_items": null,
      "left": null,
      "margin": null,
      "max_height": null,
      "max_width": null,
      "min_height": null,
      "min_width": null,
      "object_fit": null,
      "object_position": null,
      "order": null,
      "overflow": null,
      "overflow_x": null,
      "overflow_y": null,
      "padding": null,
      "right": null,
      "top": null,
      "visibility": null,
      "width": null
     }
    },
    "5173082109c848b6b086c0928dea68c8": {
     "model_module": "@jupyter-widgets/base",
     "model_module_version": "1.2.0",
     "model_name": "LayoutModel",
     "state": {
      "_model_module": "@jupyter-widgets/base",
      "_model_module_version": "1.2.0",
      "_model_name": "LayoutModel",
      "_view_count": null,
      "_view_module": "@jupyter-widgets/base",
      "_view_module_version": "1.2.0",
      "_view_name": "LayoutView",
      "align_content": null,
      "align_items": null,
      "align_self": null,
      "border": null,
      "bottom": null,
      "display": null,
      "flex": null,
      "flex_flow": null,
      "grid_area": null,
      "grid_auto_columns": null,
      "grid_auto_flow": null,
      "grid_auto_rows": null,
      "grid_column": null,
      "grid_gap": null,
      "grid_row": null,
      "grid_template_areas": null,
      "grid_template_columns": null,
      "grid_template_rows": null,
      "height": null,
      "justify_content": null,
      "justify_items": null,
      "left": null,
      "margin": null,
      "max_height": null,
      "max_width": null,
      "min_height": null,
      "min_width": null,
      "object_fit": null,
      "object_position": null,
      "order": null,
      "overflow": null,
      "overflow_x": null,
      "overflow_y": null,
      "padding": null,
      "right": null,
      "top": null,
      "visibility": null,
      "width": null
     }
    },
    "6a023fd8f0b8454bb319a5583366fca4": {
     "model_module": "@jupyter-widgets/controls",
     "model_module_version": "1.5.0",
     "model_name": "HBoxModel",
     "state": {
      "_dom_classes": [],
      "_model_module": "@jupyter-widgets/controls",
      "_model_module_version": "1.5.0",
      "_model_name": "HBoxModel",
      "_view_count": null,
      "_view_module": "@jupyter-widgets/controls",
      "_view_module_version": "1.5.0",
      "_view_name": "HBoxView",
      "box_style": "",
      "children": [
       "IPY_MODEL_810788c1146b4f789916c31608733a8e",
       "IPY_MODEL_6bf4e7aa87174418a457e9073e179a50",
       "IPY_MODEL_c66d73c0530e491ebc9ceb0f645d977c"
      ],
      "layout": "IPY_MODEL_0a9835e22e504ed9b532222bb52a6832"
     }
    },
    "6a743b626d50453b83c171aeec542cb0": {
     "model_module": "@jupyter-widgets/controls",
     "model_module_version": "1.5.0",
     "model_name": "DescriptionStyleModel",
     "state": {
      "_model_module": "@jupyter-widgets/controls",
      "_model_module_version": "1.5.0",
      "_model_name": "DescriptionStyleModel",
      "_view_count": null,
      "_view_module": "@jupyter-widgets/base",
      "_view_module_version": "1.2.0",
      "_view_name": "StyleView",
      "description_width": ""
     }
    },
    "6bf4e7aa87174418a457e9073e179a50": {
     "model_module": "@jupyter-widgets/controls",
     "model_module_version": "1.5.0",
     "model_name": "FloatProgressModel",
     "state": {
      "_dom_classes": [],
      "_model_module": "@jupyter-widgets/controls",
      "_model_module_version": "1.5.0",
      "_model_name": "FloatProgressModel",
      "_view_count": null,
      "_view_module": "@jupyter-widgets/controls",
      "_view_module_version": "1.5.0",
      "_view_name": "ProgressView",
      "bar_style": "success",
      "description": "",
      "description_tooltip": null,
      "layout": "IPY_MODEL_2c29d159534b43cc9a80213281b58e57",
      "max": 50,
      "min": 0,
      "orientation": "horizontal",
      "style": "IPY_MODEL_2d095d9c09e745ddb1957a318bc5ab64",
      "value": 50
     }
    },
    "728cfc7c06f44fa4967dc052615c552e": {
     "model_module": "@jupyter-widgets/controls",
     "model_module_version": "1.5.0",
     "model_name": "DescriptionStyleModel",
     "state": {
      "_model_module": "@jupyter-widgets/controls",
      "_model_module_version": "1.5.0",
      "_model_name": "DescriptionStyleModel",
      "_view_count": null,
      "_view_module": "@jupyter-widgets/base",
      "_view_module_version": "1.2.0",
      "_view_name": "StyleView",
      "description_width": ""
     }
    },
    "73bfbc3d2d6144b78ffbf1ca4e868fc4": {
     "model_module": "@jupyter-widgets/controls",
     "model_module_version": "1.5.0",
     "model_name": "FloatProgressModel",
     "state": {
      "_dom_classes": [],
      "_model_module": "@jupyter-widgets/controls",
      "_model_module_version": "1.5.0",
      "_model_name": "FloatProgressModel",
      "_view_count": null,
      "_view_module": "@jupyter-widgets/controls",
      "_view_module_version": "1.5.0",
      "_view_name": "ProgressView",
      "bar_style": "success",
      "description": "",
      "description_tooltip": null,
      "layout": "IPY_MODEL_47b49fa7c9db4170ba0cda1e37b907a9",
      "max": 3000,
      "min": 0,
      "orientation": "horizontal",
      "style": "IPY_MODEL_ddef96bcb7fd4ef29a723801b563d3d4",
      "value": 3000
     }
    },
    "78c771c04c154a15b8093cc8d30496be": {
     "model_module": "@jupyter-widgets/controls",
     "model_module_version": "1.5.0",
     "model_name": "DescriptionStyleModel",
     "state": {
      "_model_module": "@jupyter-widgets/controls",
      "_model_module_version": "1.5.0",
      "_model_name": "DescriptionStyleModel",
      "_view_count": null,
      "_view_module": "@jupyter-widgets/base",
      "_view_module_version": "1.2.0",
      "_view_name": "StyleView",
      "description_width": ""
     }
    },
    "810788c1146b4f789916c31608733a8e": {
     "model_module": "@jupyter-widgets/controls",
     "model_module_version": "1.5.0",
     "model_name": "HTMLModel",
     "state": {
      "_dom_classes": [],
      "_model_module": "@jupyter-widgets/controls",
      "_model_module_version": "1.5.0",
      "_model_name": "HTMLModel",
      "_view_count": null,
      "_view_module": "@jupyter-widgets/controls",
      "_view_module_version": "1.5.0",
      "_view_name": "HTMLView",
      "description": "",
      "description_tooltip": null,
      "layout": "IPY_MODEL_1a773290db1e4aeb88a7c18d1e65e7c8",
      "placeholder": "​",
      "style": "IPY_MODEL_78c771c04c154a15b8093cc8d30496be",
      "value": "100%"
     }
    },
    "84f3b742622842e989d456aeabcf5321": {
     "model_module": "@jupyter-widgets/base",
     "model_module_version": "1.2.0",
     "model_name": "LayoutModel",
     "state": {
      "_model_module": "@jupyter-widgets/base",
      "_model_module_version": "1.2.0",
      "_model_name": "LayoutModel",
      "_view_count": null,
      "_view_module": "@jupyter-widgets/base",
      "_view_module_version": "1.2.0",
      "_view_name": "LayoutView",
      "align_content": null,
      "align_items": null,
      "align_self": null,
      "border": null,
      "bottom": null,
      "display": null,
      "flex": null,
      "flex_flow": null,
      "grid_area": null,
      "grid_auto_columns": null,
      "grid_auto_flow": null,
      "grid_auto_rows": null,
      "grid_column": null,
      "grid_gap": null,
      "grid_row": null,
      "grid_template_areas": null,
      "grid_template_columns": null,
      "grid_template_rows": null,
      "height": null,
      "justify_content": null,
      "justify_items": null,
      "left": null,
      "margin": null,
      "max_height": null,
      "max_width": null,
      "min_height": null,
      "min_width": null,
      "object_fit": null,
      "object_position": null,
      "order": null,
      "overflow": null,
      "overflow_x": null,
      "overflow_y": null,
      "padding": null,
      "right": null,
      "top": null,
      "visibility": null,
      "width": null
     }
    },
    "a61f20bedc6f4cda9db56034d2b07a5f": {
     "model_module": "@jupyter-widgets/base",
     "model_module_version": "1.2.0",
     "model_name": "LayoutModel",
     "state": {
      "_model_module": "@jupyter-widgets/base",
      "_model_module_version": "1.2.0",
      "_model_name": "LayoutModel",
      "_view_count": null,
      "_view_module": "@jupyter-widgets/base",
      "_view_module_version": "1.2.0",
      "_view_name": "LayoutView",
      "align_content": null,
      "align_items": null,
      "align_self": null,
      "border": null,
      "bottom": null,
      "display": null,
      "flex": null,
      "flex_flow": null,
      "grid_area": null,
      "grid_auto_columns": null,
      "grid_auto_flow": null,
      "grid_auto_rows": null,
      "grid_column": null,
      "grid_gap": null,
      "grid_row": null,
      "grid_template_areas": null,
      "grid_template_columns": null,
      "grid_template_rows": null,
      "height": null,
      "justify_content": null,
      "justify_items": null,
      "left": null,
      "margin": null,
      "max_height": null,
      "max_width": null,
      "min_height": null,
      "min_width": null,
      "object_fit": null,
      "object_position": null,
      "order": null,
      "overflow": null,
      "overflow_x": null,
      "overflow_y": null,
      "padding": null,
      "right": null,
      "top": null,
      "visibility": null,
      "width": null
     }
    },
    "ba6d267fa72e49d8a6df821ae63c6f42": {
     "model_module": "@jupyter-widgets/base",
     "model_module_version": "1.2.0",
     "model_name": "LayoutModel",
     "state": {
      "_model_module": "@jupyter-widgets/base",
      "_model_module_version": "1.2.0",
      "_model_name": "LayoutModel",
      "_view_count": null,
      "_view_module": "@jupyter-widgets/base",
      "_view_module_version": "1.2.0",
      "_view_name": "LayoutView",
      "align_content": null,
      "align_items": null,
      "align_self": null,
      "border": null,
      "bottom": null,
      "display": null,
      "flex": null,
      "flex_flow": null,
      "grid_area": null,
      "grid_auto_columns": null,
      "grid_auto_flow": null,
      "grid_auto_rows": null,
      "grid_column": null,
      "grid_gap": null,
      "grid_row": null,
      "grid_template_areas": null,
      "grid_template_columns": null,
      "grid_template_rows": null,
      "height": null,
      "justify_content": null,
      "justify_items": null,
      "left": null,
      "margin": null,
      "max_height": null,
      "max_width": null,
      "min_height": null,
      "min_width": null,
      "object_fit": null,
      "object_position": null,
      "order": null,
      "overflow": null,
      "overflow_x": null,
      "overflow_y": null,
      "padding": null,
      "right": null,
      "top": null,
      "visibility": null,
      "width": null
     }
    },
    "c66d73c0530e491ebc9ceb0f645d977c": {
     "model_module": "@jupyter-widgets/controls",
     "model_module_version": "1.5.0",
     "model_name": "HTMLModel",
     "state": {
      "_dom_classes": [],
      "_model_module": "@jupyter-widgets/controls",
      "_model_module_version": "1.5.0",
      "_model_name": "HTMLModel",
      "_view_count": null,
      "_view_module": "@jupyter-widgets/controls",
      "_view_module_version": "1.5.0",
      "_view_name": "HTMLView",
      "description": "",
      "description_tooltip": null,
      "layout": "IPY_MODEL_5173082109c848b6b086c0928dea68c8",
      "placeholder": "​",
      "style": "IPY_MODEL_728cfc7c06f44fa4967dc052615c552e",
      "value": " 50/50 [04:55&lt;00:00,  5.82s/it]"
     }
    },
    "ddef96bcb7fd4ef29a723801b563d3d4": {
     "model_module": "@jupyter-widgets/controls",
     "model_module_version": "1.5.0",
     "model_name": "ProgressStyleModel",
     "state": {
      "_model_module": "@jupyter-widgets/controls",
      "_model_module_version": "1.5.0",
      "_model_name": "ProgressStyleModel",
      "_view_count": null,
      "_view_module": "@jupyter-widgets/base",
      "_view_module_version": "1.2.0",
      "_view_name": "StyleView",
      "bar_color": null,
      "description_width": ""
     }
    },
    "fe74eeb3347140b08fd09a737db3b098": {
     "model_module": "@jupyter-widgets/controls",
     "model_module_version": "1.5.0",
     "model_name": "HBoxModel",
     "state": {
      "_dom_classes": [],
      "_model_module": "@jupyter-widgets/controls",
      "_model_module_version": "1.5.0",
      "_model_name": "HBoxModel",
      "_view_count": null,
      "_view_module": "@jupyter-widgets/controls",
      "_view_module_version": "1.5.0",
      "_view_name": "HBoxView",
      "box_style": "",
      "children": [
       "IPY_MODEL_479afaa7d2254729886ffff0646dddea",
       "IPY_MODEL_73bfbc3d2d6144b78ffbf1ca4e868fc4",
       "IPY_MODEL_355b0e7295d04379bc0385c3241bdc69"
      ],
      "layout": "IPY_MODEL_a61f20bedc6f4cda9db56034d2b07a5f"
     }
    }
   }
  }
 },
 "nbformat": 4,
 "nbformat_minor": 1
}
