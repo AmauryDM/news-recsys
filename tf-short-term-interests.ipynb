{
 "cells": [
  {
   "cell_type": "code",
   "execution_count": null,
   "metadata": {
    "id": "gZF_x5-yz26i"
   },
   "outputs": [],
   "source": [
    "%%capture\n",
    "!pip install sentence_transformers\n",
    "!pip install umap-learn"
   ]
  },
  {
   "cell_type": "code",
   "execution_count": null,
   "metadata": {
    "id": "Fp53VGZZz6IB"
   },
   "outputs": [],
   "source": [
    "import keras\n",
    "from keras import layers\n",
    "from lxml import html\n",
    "import numpy as np\n",
    "import pandas as pd\n",
    "import re\n",
    "import requests\n",
    "from sentence_transformers import SentenceTransformer\n",
    "import tensorflow as tf\n",
    "from tqdm import tqdm\n",
    "import umap"
   ]
  },
  {
   "cell_type": "markdown",
   "metadata": {
    "id": "-OLJOPazNN3q"
   },
   "source": [
    "# Get MIND data"
   ]
  },
  {
   "cell_type": "code",
   "execution_count": null,
   "metadata": {
    "colab": {
     "base_uri": "https://localhost:8080/",
     "height": 250
    },
    "id": "r4pxyJK7OIGV",
    "outputId": "0a3d2404-19cf-465d-8a15-7e02f5c625de"
   },
   "outputs": [
    {
     "data": {
      "text/html": [
       "\n",
       "  <div id=\"df-4e4c751b-745f-4654-a6bb-abcc5ce3a2e5\">\n",
       "    <div class=\"colab-df-container\">\n",
       "      <div>\n",
       "<style scoped>\n",
       "    .dataframe tbody tr th:only-of-type {\n",
       "        vertical-align: middle;\n",
       "    }\n",
       "\n",
       "    .dataframe tbody tr th {\n",
       "        vertical-align: top;\n",
       "    }\n",
       "\n",
       "    .dataframe thead th {\n",
       "        text-align: right;\n",
       "    }\n",
       "</style>\n",
       "<table border=\"1\" class=\"dataframe\">\n",
       "  <thead>\n",
       "    <tr style=\"text-align: right;\">\n",
       "      <th></th>\n",
       "      <th>impression_id</th>\n",
       "      <th>user_id</th>\n",
       "      <th>time</th>\n",
       "      <th>history</th>\n",
       "      <th>impressions</th>\n",
       "    </tr>\n",
       "  </thead>\n",
       "  <tbody>\n",
       "    <tr>\n",
       "      <th>181576</th>\n",
       "      <td>181577</td>\n",
       "      <td>U52930</td>\n",
       "      <td>11/15/2019 2:15:21 AM</td>\n",
       "      <td>N128643 N42646 N49511 N13423 N71728 N107705 N9...</td>\n",
       "      <td>N83707-0 N26122-0 N32993-0 N80770-0 N86609-0 N...</td>\n",
       "    </tr>\n",
       "    <tr>\n",
       "      <th>239312</th>\n",
       "      <td>239313</td>\n",
       "      <td>U561400</td>\n",
       "      <td>11/15/2019 8:03:52 AM</td>\n",
       "      <td>N128965 N61504 N13675 N123743 N68429 N94908 N1...</td>\n",
       "      <td>N30206-0 N29160-1 N58465-0 N122640-0 N54368-0 ...</td>\n",
       "    </tr>\n",
       "    <tr>\n",
       "      <th>247869</th>\n",
       "      <td>247870</td>\n",
       "      <td>U182031</td>\n",
       "      <td>11/15/2019 12:46:10 PM</td>\n",
       "      <td>N128736 N46591 N35797 N90185 N27258 N109816 N1...</td>\n",
       "      <td>N58760-0 N29160-0 N112536-0 N21018-0 N46555-1 ...</td>\n",
       "    </tr>\n",
       "    <tr>\n",
       "      <th>280282</th>\n",
       "      <td>280283</td>\n",
       "      <td>U655206</td>\n",
       "      <td>11/15/2019 6:10:23 AM</td>\n",
       "      <td>N4857 N85484 N49079 N27668 N38454 N24885 N1289...</td>\n",
       "      <td>N54368-0 N18190-1</td>\n",
       "    </tr>\n",
       "    <tr>\n",
       "      <th>290030</th>\n",
       "      <td>290031</td>\n",
       "      <td>U675991</td>\n",
       "      <td>11/15/2019 12:19:38 PM</td>\n",
       "      <td>N22660 N41709 N62019</td>\n",
       "      <td>N21018-0 N129416-0 N119999-0 N46641-0 N29160-0...</td>\n",
       "    </tr>\n",
       "  </tbody>\n",
       "</table>\n",
       "</div>\n",
       "      <button class=\"colab-df-convert\" onclick=\"convertToInteractive('df-4e4c751b-745f-4654-a6bb-abcc5ce3a2e5')\"\n",
       "              title=\"Convert this dataframe to an interactive table.\"\n",
       "              style=\"display:none;\">\n",
       "        \n",
       "  <svg xmlns=\"http://www.w3.org/2000/svg\" height=\"24px\"viewBox=\"0 0 24 24\"\n",
       "       width=\"24px\">\n",
       "    <path d=\"M0 0h24v24H0V0z\" fill=\"none\"/>\n",
       "    <path d=\"M18.56 5.44l.94 2.06.94-2.06 2.06-.94-2.06-.94-.94-2.06-.94 2.06-2.06.94zm-11 1L8.5 8.5l.94-2.06 2.06-.94-2.06-.94L8.5 2.5l-.94 2.06-2.06.94zm10 10l.94 2.06.94-2.06 2.06-.94-2.06-.94-.94-2.06-.94 2.06-2.06.94z\"/><path d=\"M17.41 7.96l-1.37-1.37c-.4-.4-.92-.59-1.43-.59-.52 0-1.04.2-1.43.59L10.3 9.45l-7.72 7.72c-.78.78-.78 2.05 0 2.83L4 21.41c.39.39.9.59 1.41.59.51 0 1.02-.2 1.41-.59l7.78-7.78 2.81-2.81c.8-.78.8-2.07 0-2.86zM5.41 20L4 18.59l7.72-7.72 1.47 1.35L5.41 20z\"/>\n",
       "  </svg>\n",
       "      </button>\n",
       "      \n",
       "  <style>\n",
       "    .colab-df-container {\n",
       "      display:flex;\n",
       "      flex-wrap:wrap;\n",
       "      gap: 12px;\n",
       "    }\n",
       "\n",
       "    .colab-df-convert {\n",
       "      background-color: #E8F0FE;\n",
       "      border: none;\n",
       "      border-radius: 50%;\n",
       "      cursor: pointer;\n",
       "      display: none;\n",
       "      fill: #1967D2;\n",
       "      height: 32px;\n",
       "      padding: 0 0 0 0;\n",
       "      width: 32px;\n",
       "    }\n",
       "\n",
       "    .colab-df-convert:hover {\n",
       "      background-color: #E2EBFA;\n",
       "      box-shadow: 0px 1px 2px rgba(60, 64, 67, 0.3), 0px 1px 3px 1px rgba(60, 64, 67, 0.15);\n",
       "      fill: #174EA6;\n",
       "    }\n",
       "\n",
       "    [theme=dark] .colab-df-convert {\n",
       "      background-color: #3B4455;\n",
       "      fill: #D2E3FC;\n",
       "    }\n",
       "\n",
       "    [theme=dark] .colab-df-convert:hover {\n",
       "      background-color: #434B5C;\n",
       "      box-shadow: 0px 1px 3px 1px rgba(0, 0, 0, 0.15);\n",
       "      filter: drop-shadow(0px 1px 2px rgba(0, 0, 0, 0.3));\n",
       "      fill: #FFFFFF;\n",
       "    }\n",
       "  </style>\n",
       "\n",
       "      <script>\n",
       "        const buttonEl =\n",
       "          document.querySelector('#df-4e4c751b-745f-4654-a6bb-abcc5ce3a2e5 button.colab-df-convert');\n",
       "        buttonEl.style.display =\n",
       "          google.colab.kernel.accessAllowed ? 'block' : 'none';\n",
       "\n",
       "        async function convertToInteractive(key) {\n",
       "          const element = document.querySelector('#df-4e4c751b-745f-4654-a6bb-abcc5ce3a2e5');\n",
       "          const dataTable =\n",
       "            await google.colab.kernel.invokeFunction('convertToInteractive',\n",
       "                                                     [key], {});\n",
       "          if (!dataTable) return;\n",
       "\n",
       "          const docLinkHtml = 'Like what you see? Visit the ' +\n",
       "            '<a target=\"_blank\" href=https://colab.research.google.com/notebooks/data_table.ipynb>data table notebook</a>'\n",
       "            + ' to learn more about interactive tables.';\n",
       "          element.innerHTML = '';\n",
       "          dataTable['output_type'] = 'display_data';\n",
       "          await google.colab.output.renderOutput(dataTable, element);\n",
       "          const docLink = document.createElement('div');\n",
       "          docLink.innerHTML = docLinkHtml;\n",
       "          element.appendChild(docLink);\n",
       "        }\n",
       "      </script>\n",
       "    </div>\n",
       "  </div>\n",
       "  "
      ],
      "text/plain": [
       "        impression_id  user_id                    time  \\\n",
       "181576         181577   U52930   11/15/2019 2:15:21 AM   \n",
       "239312         239313  U561400   11/15/2019 8:03:52 AM   \n",
       "247869         247870  U182031  11/15/2019 12:46:10 PM   \n",
       "280282         280283  U655206   11/15/2019 6:10:23 AM   \n",
       "290030         290031  U675991  11/15/2019 12:19:38 PM   \n",
       "\n",
       "                                                  history  \\\n",
       "181576  N128643 N42646 N49511 N13423 N71728 N107705 N9...   \n",
       "239312  N128965 N61504 N13675 N123743 N68429 N94908 N1...   \n",
       "247869  N128736 N46591 N35797 N90185 N27258 N109816 N1...   \n",
       "280282  N4857 N85484 N49079 N27668 N38454 N24885 N1289...   \n",
       "290030                               N22660 N41709 N62019   \n",
       "\n",
       "                                              impressions  \n",
       "181576  N83707-0 N26122-0 N32993-0 N80770-0 N86609-0 N...  \n",
       "239312  N30206-0 N29160-1 N58465-0 N122640-0 N54368-0 ...  \n",
       "247869  N58760-0 N29160-0 N112536-0 N21018-0 N46555-1 ...  \n",
       "280282                                  N54368-0 N18190-1  \n",
       "290030  N21018-0 N129416-0 N119999-0 N46641-0 N29160-0...  "
      ]
     },
     "execution_count": 12,
     "metadata": {},
     "output_type": "execute_result"
    }
   ],
   "source": [
    "behaviors = pd.read_csv(\"/content/drive/My Drive/Projet 16/Long Term/PyG/data/dev/behaviors.tsv\",\n",
    "                        sep=\"\\t\",\n",
    "                        header=None,\n",
    "                        names=[\"impression_id\", \"user_id\", \"time\", \"history\", \"impressions\"])\n",
    "\n",
    "behaviors.sample(frac=1, random_state=42).head()"
   ]
  },
  {
   "cell_type": "code",
   "execution_count": null,
   "metadata": {
    "colab": {
     "base_uri": "https://localhost:8080/",
     "height": 597
    },
    "id": "IZ31EqXaOJ73",
    "outputId": "acdf5c9e-d168-461b-813f-b8e31979edc6"
   },
   "outputs": [
    {
     "data": {
      "text/html": [
       "\n",
       "  <div id=\"df-3f2eebdd-92c5-45e5-90b8-7ac0f28ea952\">\n",
       "    <div class=\"colab-df-container\">\n",
       "      <div>\n",
       "<style scoped>\n",
       "    .dataframe tbody tr th:only-of-type {\n",
       "        vertical-align: middle;\n",
       "    }\n",
       "\n",
       "    .dataframe tbody tr th {\n",
       "        vertical-align: top;\n",
       "    }\n",
       "\n",
       "    .dataframe thead th {\n",
       "        text-align: right;\n",
       "    }\n",
       "</style>\n",
       "<table border=\"1\" class=\"dataframe\">\n",
       "  <thead>\n",
       "    <tr style=\"text-align: right;\">\n",
       "      <th></th>\n",
       "      <th>news_id</th>\n",
       "      <th>category</th>\n",
       "      <th>sub_category</th>\n",
       "      <th>title</th>\n",
       "      <th>abstract</th>\n",
       "      <th>url</th>\n",
       "      <th>title_entities</th>\n",
       "      <th>abstract_entites</th>\n",
       "    </tr>\n",
       "  </thead>\n",
       "  <tbody>\n",
       "    <tr>\n",
       "      <th>39031</th>\n",
       "      <td>N44668</td>\n",
       "      <td>video</td>\n",
       "      <td>news</td>\n",
       "      <td>US Attorney John Durham now conducting a crimi...</td>\n",
       "      <td>Should officials who started the Russia probe ...</td>\n",
       "      <td>https://assets.msn.com/labs/mind/AAJnTiK.html</td>\n",
       "      <td>[{\"Label\": \"Special Counsel investigation (201...</td>\n",
       "      <td>[{\"Label\": \"Special Counsel investigation (201...</td>\n",
       "    </tr>\n",
       "    <tr>\n",
       "      <th>64896</th>\n",
       "      <td>N54249</td>\n",
       "      <td>news</td>\n",
       "      <td>newsscienceandtechnology</td>\n",
       "      <td>Google CEO cuts back biweekly meetings after r...</td>\n",
       "      <td>The TGIF town halls have been rescheduled as m...</td>\n",
       "      <td>https://assets.msn.com/labs/mind/BBWPgel.html</td>\n",
       "      <td>[]</td>\n",
       "      <td>[{\"Label\": \"TGIF (TV programming block)\", \"Typ...</td>\n",
       "    </tr>\n",
       "    <tr>\n",
       "      <th>34835</th>\n",
       "      <td>N113757</td>\n",
       "      <td>autos</td>\n",
       "      <td>autosnews</td>\n",
       "      <td>Greenburgh: Man suffers serious injuries in cr...</td>\n",
       "      <td>Greenburgh detectives are still investigating ...</td>\n",
       "      <td>https://assets.msn.com/labs/mind/AAJiTMe.html</td>\n",
       "      <td>[{\"Label\": \"Greenburgh, New York\", \"Type\": \"G\"...</td>\n",
       "      <td>[{\"Label\": \"Greenburgh, New York\", \"Type\": \"G\"...</td>\n",
       "    </tr>\n",
       "    <tr>\n",
       "      <th>54782</th>\n",
       "      <td>N31350</td>\n",
       "      <td>travel</td>\n",
       "      <td>travelarticle</td>\n",
       "      <td>'Joker' Fans Come For The Stairs, Locals Hope ...</td>\n",
       "      <td>People who live and work at the real-life High...</td>\n",
       "      <td>https://assets.msn.com/labs/mind/AAJ97FU.html</td>\n",
       "      <td>[]</td>\n",
       "      <td>[{\"Label\": \"Highbridge, Bronx\", \"Type\": \"G\", \"...</td>\n",
       "    </tr>\n",
       "    <tr>\n",
       "      <th>16435</th>\n",
       "      <td>N91140</td>\n",
       "      <td>sports</td>\n",
       "      <td>football_nfl</td>\n",
       "      <td>The Linc - Jordan Howard says he'd definitely ...</td>\n",
       "      <td>Philadelphia Eagles news and links for 11/3/19.</td>\n",
       "      <td>https://assets.msn.com/labs/mind/AAJLDsP.html</td>\n",
       "      <td>[{\"Label\": \"Jordan Howard\", \"Type\": \"P\", \"Wiki...</td>\n",
       "      <td>[{\"Label\": \"Philadelphia Eagles\", \"Type\": \"O\",...</td>\n",
       "    </tr>\n",
       "  </tbody>\n",
       "</table>\n",
       "</div>\n",
       "      <button class=\"colab-df-convert\" onclick=\"convertToInteractive('df-3f2eebdd-92c5-45e5-90b8-7ac0f28ea952')\"\n",
       "              title=\"Convert this dataframe to an interactive table.\"\n",
       "              style=\"display:none;\">\n",
       "        \n",
       "  <svg xmlns=\"http://www.w3.org/2000/svg\" height=\"24px\"viewBox=\"0 0 24 24\"\n",
       "       width=\"24px\">\n",
       "    <path d=\"M0 0h24v24H0V0z\" fill=\"none\"/>\n",
       "    <path d=\"M18.56 5.44l.94 2.06.94-2.06 2.06-.94-2.06-.94-.94-2.06-.94 2.06-2.06.94zm-11 1L8.5 8.5l.94-2.06 2.06-.94-2.06-.94L8.5 2.5l-.94 2.06-2.06.94zm10 10l.94 2.06.94-2.06 2.06-.94-2.06-.94-.94-2.06-.94 2.06-2.06.94z\"/><path d=\"M17.41 7.96l-1.37-1.37c-.4-.4-.92-.59-1.43-.59-.52 0-1.04.2-1.43.59L10.3 9.45l-7.72 7.72c-.78.78-.78 2.05 0 2.83L4 21.41c.39.39.9.59 1.41.59.51 0 1.02-.2 1.41-.59l7.78-7.78 2.81-2.81c.8-.78.8-2.07 0-2.86zM5.41 20L4 18.59l7.72-7.72 1.47 1.35L5.41 20z\"/>\n",
       "  </svg>\n",
       "      </button>\n",
       "      \n",
       "  <style>\n",
       "    .colab-df-container {\n",
       "      display:flex;\n",
       "      flex-wrap:wrap;\n",
       "      gap: 12px;\n",
       "    }\n",
       "\n",
       "    .colab-df-convert {\n",
       "      background-color: #E8F0FE;\n",
       "      border: none;\n",
       "      border-radius: 50%;\n",
       "      cursor: pointer;\n",
       "      display: none;\n",
       "      fill: #1967D2;\n",
       "      height: 32px;\n",
       "      padding: 0 0 0 0;\n",
       "      width: 32px;\n",
       "    }\n",
       "\n",
       "    .colab-df-convert:hover {\n",
       "      background-color: #E2EBFA;\n",
       "      box-shadow: 0px 1px 2px rgba(60, 64, 67, 0.3), 0px 1px 3px 1px rgba(60, 64, 67, 0.15);\n",
       "      fill: #174EA6;\n",
       "    }\n",
       "\n",
       "    [theme=dark] .colab-df-convert {\n",
       "      background-color: #3B4455;\n",
       "      fill: #D2E3FC;\n",
       "    }\n",
       "\n",
       "    [theme=dark] .colab-df-convert:hover {\n",
       "      background-color: #434B5C;\n",
       "      box-shadow: 0px 1px 3px 1px rgba(0, 0, 0, 0.15);\n",
       "      filter: drop-shadow(0px 1px 2px rgba(0, 0, 0, 0.3));\n",
       "      fill: #FFFFFF;\n",
       "    }\n",
       "  </style>\n",
       "\n",
       "      <script>\n",
       "        const buttonEl =\n",
       "          document.querySelector('#df-3f2eebdd-92c5-45e5-90b8-7ac0f28ea952 button.colab-df-convert');\n",
       "        buttonEl.style.display =\n",
       "          google.colab.kernel.accessAllowed ? 'block' : 'none';\n",
       "\n",
       "        async function convertToInteractive(key) {\n",
       "          const element = document.querySelector('#df-3f2eebdd-92c5-45e5-90b8-7ac0f28ea952');\n",
       "          const dataTable =\n",
       "            await google.colab.kernel.invokeFunction('convertToInteractive',\n",
       "                                                     [key], {});\n",
       "          if (!dataTable) return;\n",
       "\n",
       "          const docLinkHtml = 'Like what you see? Visit the ' +\n",
       "            '<a target=\"_blank\" href=https://colab.research.google.com/notebooks/data_table.ipynb>data table notebook</a>'\n",
       "            + ' to learn more about interactive tables.';\n",
       "          element.innerHTML = '';\n",
       "          dataTable['output_type'] = 'display_data';\n",
       "          await google.colab.output.renderOutput(dataTable, element);\n",
       "          const docLink = document.createElement('div');\n",
       "          docLink.innerHTML = docLinkHtml;\n",
       "          element.appendChild(docLink);\n",
       "        }\n",
       "      </script>\n",
       "    </div>\n",
       "  </div>\n",
       "  "
      ],
      "text/plain": [
       "       news_id category              sub_category  \\\n",
       "39031   N44668    video                      news   \n",
       "64896   N54249     news  newsscienceandtechnology   \n",
       "34835  N113757    autos                 autosnews   \n",
       "54782   N31350   travel             travelarticle   \n",
       "16435   N91140   sports              football_nfl   \n",
       "\n",
       "                                                   title  \\\n",
       "39031  US Attorney John Durham now conducting a crimi...   \n",
       "64896  Google CEO cuts back biweekly meetings after r...   \n",
       "34835  Greenburgh: Man suffers serious injuries in cr...   \n",
       "54782  'Joker' Fans Come For The Stairs, Locals Hope ...   \n",
       "16435  The Linc - Jordan Howard says he'd definitely ...   \n",
       "\n",
       "                                                abstract  \\\n",
       "39031  Should officials who started the Russia probe ...   \n",
       "64896  The TGIF town halls have been rescheduled as m...   \n",
       "34835  Greenburgh detectives are still investigating ...   \n",
       "54782  People who live and work at the real-life High...   \n",
       "16435    Philadelphia Eagles news and links for 11/3/19.   \n",
       "\n",
       "                                                 url  \\\n",
       "39031  https://assets.msn.com/labs/mind/AAJnTiK.html   \n",
       "64896  https://assets.msn.com/labs/mind/BBWPgel.html   \n",
       "34835  https://assets.msn.com/labs/mind/AAJiTMe.html   \n",
       "54782  https://assets.msn.com/labs/mind/AAJ97FU.html   \n",
       "16435  https://assets.msn.com/labs/mind/AAJLDsP.html   \n",
       "\n",
       "                                          title_entities  \\\n",
       "39031  [{\"Label\": \"Special Counsel investigation (201...   \n",
       "64896                                                 []   \n",
       "34835  [{\"Label\": \"Greenburgh, New York\", \"Type\": \"G\"...   \n",
       "54782                                                 []   \n",
       "16435  [{\"Label\": \"Jordan Howard\", \"Type\": \"P\", \"Wiki...   \n",
       "\n",
       "                                        abstract_entites  \n",
       "39031  [{\"Label\": \"Special Counsel investigation (201...  \n",
       "64896  [{\"Label\": \"TGIF (TV programming block)\", \"Typ...  \n",
       "34835  [{\"Label\": \"Greenburgh, New York\", \"Type\": \"G\"...  \n",
       "54782  [{\"Label\": \"Highbridge, Bronx\", \"Type\": \"G\", \"...  \n",
       "16435  [{\"Label\": \"Philadelphia Eagles\", \"Type\": \"O\",...  "
      ]
     },
     "execution_count": 13,
     "metadata": {},
     "output_type": "execute_result"
    }
   ],
   "source": [
    "news = pd.read_csv(\"/content/drive/My Drive/Projet 16/Long Term/PyG/data/dev/news.tsv\",\n",
    "                   sep=\"\\t\",\n",
    "                   header=None,\n",
    "                   names=[\"news_id\", \"category\", \"sub_category\", \"title\", \"abstract\", \"url\", \"title_entities\", \"abstract_entites\"])\n",
    "\n",
    "news.sample(frac=1, random_state=42).head()"
   ]
  },
  {
   "cell_type": "markdown",
   "metadata": {
    "id": "StO4odjrNQVT"
   },
   "source": [
    "# Building dataset\n",
    "\n",
    "## For this model, the objective is to retrieve relevant features of the article to capture a trend in the recent clicked news of a user. To do so, the following web scraping script is quering the URL associated with a news article and gets the entire text in a final string. The conditions to have a relevant dataset is to have enough links redirecting to actual text that can be analyzed."
   ]
  },
  {
   "cell_type": "code",
   "execution_count": null,
   "metadata": {
    "id": "kzb1r-4mNvZl"
   },
   "outputs": [],
   "source": [
    "list_history = []\n",
    "list_candidate = []\n",
    "compt = 0\n",
    "\n",
    "def data_loader(idx, user_id):\n",
    "    temp_history = []\n",
    "    temp_candidate = []\n",
    "    candidate_is_valid = False\n",
    "    history_is_valid = False\n",
    "    if type(behaviors.loc[behaviors['user_id'] == user_id]['history'].values[0]) == str and type(behaviors.loc[behaviors['user_id'] == user_id]['impressions'].values[0]) == str:\n",
    "        global compt\n",
    "        compt += 1\n",
    "        history_split = behaviors.loc[behaviors['user_id'] == user_id]['history'].values[0].split(' ')\n",
    "        candidate_split = behaviors.loc[behaviors['user_id'] == user_id]['impressions'].values[0].split(' ')\n",
    "        for i, item in enumerate(candidate_split):\n",
    "            if (news.loc[news['news_id'] == item[:-2]]['url'].values != '' or news.loc[news['news_id'] == item[:-2]]['url'].values.size > 0) and int(item[-1]) == 1:\n",
    "                temp_candidate.append(item[:-2])\n",
    "                candidate_is_valid = True\n",
    "                break\n",
    "        if len(history_split) > 8:\n",
    "            user_history = []\n",
    "            for item in history_split:\n",
    "                if (news.loc[news['news_id'] == item[:-2]]['url'].values != '' or news.loc[news['news_id'] == item[:-2]]['url'].values.size > 0) and (len(user_history) < 5) and candidate_is_valid:\n",
    "                    user_history.append(item)\n",
    "                    history_is_valid = True\n",
    "            if history_is_valid and candidate_is_valid:\n",
    "                for it in temp_candidate:\n",
    "                    list_candidate.append(it)\n",
    "                list_history.append(user_history)"
   ]
  },
  {
   "cell_type": "code",
   "execution_count": null,
   "metadata": {
    "id": "mwSNMEPEnXOn"
   },
   "outputs": [],
   "source": [
    "def old_data_loader(idx, user_id):\n",
    "    if type(behaviors.loc[behaviors['user_id'] == user_id]['history'].values[0]) == str and type(behaviors.loc[behaviors['user_id'] == user_id]['impressions'].values[0]) == str:\n",
    "        global compt\n",
    "        compt += 1\n",
    "        history_split = behaviors.loc[behaviors['user_id'] == user_id]['history'].values[0].split(' ')\n",
    "        candidate_split = behaviors.loc[behaviors['user_id'] == user_id]['impressions'].values[0].split(' ')\n",
    "        for i, item in enumerate(candidate_split):\n",
    "            if (news.loc[news['news_id'] == item[:-2]]['url'].values != '' or news.loc[news['news_id'] == item[:-2]]['url'].values.size > 0) and int(item[-1]) == 1:\n",
    "                list_candidate.append(item[:-2])\n",
    "                break\n",
    "        if len(history_split) > 8:\n",
    "            user_history = []\n",
    "            for item in history_split:\n",
    "                if (news.loc[news['news_id'] == item[:-2]]['url'].values != '' or news.loc[news['news_id'] == item[:-2]]['url'].values.size > 0) and len(user_history) < 5:\n",
    "                    user_history.append(item)\n",
    "                list_history.append(user_history)"
   ]
  },
  {
   "cell_type": "code",
   "execution_count": null,
   "metadata": {
    "colab": {
     "base_uri": "https://localhost:8080/"
    },
    "id": "9Sk63mJeRHah",
    "outputId": "f06c9fcc-2106-4db2-85f3-f47a4b6e38d2"
   },
   "outputs": [
    {
     "name": "stderr",
     "output_type": "stream",
     "text": [
      "/usr/local/lib/python3.7/dist-packages/ipykernel_launcher.py:23: DeprecationWarning: The truth value of an empty array is ambiguous. Returning False, but in future this will result in an error. Use `array.size > 0` to check that an array is not empty.\n"
     ]
    }
   ],
   "source": [
    "for idx, user_id in enumerate(behaviors['user_id'][:100]):\n",
    "    data_loader(idx, user_id)"
   ]
  },
  {
   "cell_type": "markdown",
   "metadata": {
    "id": "ZQsCRndCOOmu"
   },
   "source": [
    "# Text encoding\n",
    "\n",
    "## To obtain the features from the articles that are retrieved, the idea is to use a BERT-based model trained for this purpose. The best for this task is distilroBERTa. Once we have the model, it is possible to create the article embeddings used to match the input of recently clicked news to the next predicted news."
   ]
  },
  {
   "cell_type": "code",
   "execution_count": null,
   "metadata": {
    "id": "PukpcQaeTfng"
   },
   "outputs": [],
   "source": [
    "encoder = SentenceTransformer('all-distilroberta-v1')\n",
    "output.clear()"
   ]
  },
  {
   "cell_type": "code",
   "execution_count": null,
   "metadata": {
    "id": "VtTXDoZySYc-"
   },
   "outputs": [],
   "source": [
    "def article_embedding(news_id):\n",
    "    news_url = news.loc[news['news_id'] == news_id]['url'].values[0]\n",
    "    page = requests.get(news_url)\n",
    "    tree = html.fromstring(page.content)\n",
    "    list_title = tree.xpath('//header//text()') + tree.xpath('//title//text()')\n",
    "    list_text = tree.xpath('//p//text()')\n",
    "    title = ''\n",
    "    for element in list_title:\n",
    "        element = element.replace('\\r\\n', '')\n",
    "        if bool(re.match('(?=.*[a-zA-Z])', element)):\n",
    "            title = element\n",
    "    article = \"title: \" + title + \"\\nbody: \"\n",
    "    for element in list_text:\n",
    "        article += element.replace(\"\\xa0\", \" \")\n",
    "    return encoder.encode(article), article"
   ]
  },
  {
   "cell_type": "code",
   "execution_count": null,
   "metadata": {
    "id": "vQ9RFnl4Xwiu"
   },
   "outputs": [],
   "source": [
    "for idx, item in enumerate(list_history):\n",
    "    if len(item) < 5:\n",
    "        list_history.pop(idx)"
   ]
  },
  {
   "cell_type": "code",
   "execution_count": null,
   "metadata": {
    "colab": {
     "base_uri": "https://localhost:8080/"
    },
    "id": "V33ey-dXT9SP",
    "outputId": "d9a7fa74-0b50-4d82-9852-3c92c77502d9"
   },
   "outputs": [
    {
     "name": "stderr",
     "output_type": "stream",
     "text": [
      "100%|██████████| 74/74 [08:29<00:00,  6.88s/it]\n"
     ]
    }
   ],
   "source": [
    "x = []\n",
    "umap_embedding = []\n",
    "\n",
    "for user in tqdm(list_history):\n",
    "    user_emb = []\n",
    "    for news_id in user:\n",
    "        emb = article_embedding(news_id)[0]\n",
    "        user_emb.append(emb)\n",
    "        umap_embedding.append(emb)\n",
    "    x.append(user_emb)\n",
    "\n",
    "# x_data = np.array(x, dtype=object).astype('float32')"
   ]
  },
  {
   "cell_type": "code",
   "execution_count": null,
   "metadata": {
    "id": "K2Sbb_TMdCvw"
   },
   "outputs": [],
   "source": [
    "x_data = np.array(x, dtype=object).astype('float32')"
   ]
  },
  {
   "cell_type": "code",
   "execution_count": null,
   "metadata": {
    "colab": {
     "base_uri": "https://localhost:8080/"
    },
    "id": "dPLkFUuZTOsp",
    "outputId": "dcf7c3da-178a-460d-c92f-c29e58ecc835"
   },
   "outputs": [
    {
     "data": {
      "text/plain": [
       "(74, 5, 768)"
      ]
     },
     "execution_count": 22,
     "metadata": {},
     "output_type": "execute_result"
    }
   ],
   "source": [
    "x_data.shape"
   ]
  },
  {
   "cell_type": "code",
   "execution_count": null,
   "metadata": {
    "colab": {
     "base_uri": "https://localhost:8080/"
    },
    "id": "UDbRCkCkWXRA",
    "outputId": "1a121dcc-39fc-4684-ddfe-db46157057d0"
   },
   "outputs": [
    {
     "data": {
      "text/plain": [
       "array([ 7.42005743e-03, -8.50299895e-02,  7.55199883e-03, -5.06412536e-02,\n",
       "        4.37142141e-02,  8.44200179e-02, -3.28981727e-02, -1.00805186e-01,\n",
       "        4.17859554e-02, -3.08148637e-02, -1.82543900e-02, -9.92955826e-03,\n",
       "       -2.20263675e-02, -5.02972528e-02,  3.34116467e-03, -5.85550219e-02,\n",
       "       -1.54054025e-02, -3.01610008e-02, -1.39096044e-02, -2.95141689e-03,\n",
       "        5.99940717e-02,  2.01475015e-03, -4.37411740e-02,  2.81814709e-02,\n",
       "       -7.19337433e-04, -3.28800082e-02,  1.02490000e-02, -1.42163597e-02,\n",
       "       -2.77688913e-02,  7.49920867e-03, -7.89834280e-03,  2.20843614e-03,\n",
       "       -3.81009206e-02,  1.87821873e-02, -4.34420370e-02, -1.58622849e-03,\n",
       "        2.29047071e-02, -3.23821194e-02,  2.19417810e-02,  4.07310538e-02,\n",
       "       -3.51853408e-02, -5.34468470e-03,  4.19711461e-03,  1.35367103e-02,\n",
       "        5.09892404e-02, -5.01499325e-03, -5.20759672e-02, -4.70218435e-02,\n",
       "       -1.17509617e-02, -4.79227379e-02,  2.11690813e-02, -2.15778966e-02,\n",
       "        1.60087198e-02, -1.11778816e-02,  3.03153158e-03,  4.04685549e-02,\n",
       "        5.31809218e-02,  4.06394887e-04, -4.00072038e-02,  4.04428914e-02,\n",
       "        4.37699109e-02, -4.44620326e-02,  3.06402962e-03, -2.28320733e-02,\n",
       "        3.33319865e-02,  3.09205893e-02, -1.33173298e-02, -2.38363426e-02,\n",
       "        1.38125839e-02, -5.74943237e-02, -7.27365678e-03, -5.03388755e-02,\n",
       "       -3.61062996e-02,  3.25008556e-02, -6.18153252e-03,  3.87038477e-02,\n",
       "       -1.46270897e-02, -3.41450311e-02, -4.25376482e-02,  2.19578836e-02,\n",
       "       -7.14554489e-02, -2.69114822e-02,  8.09206441e-03,  4.15431848e-03,\n",
       "       -2.54221298e-02, -8.33088066e-03,  1.18561238e-02,  2.49522310e-02,\n",
       "       -2.24504378e-02,  4.71519716e-02, -3.82402763e-02,  6.82434067e-03,\n",
       "       -2.48067677e-02,  1.76915508e-02, -2.01240834e-02, -4.23356406e-02,\n",
       "       -1.94675177e-02,  1.09549373e-01, -3.90440784e-02, -7.42109399e-03,\n",
       "        2.03750725e-03,  3.19228806e-02, -2.15573814e-02, -4.38135266e-02,\n",
       "       -2.34191399e-02, -2.50412505e-02,  4.24032882e-02,  1.08811017e-02,\n",
       "       -5.86527698e-02,  1.04379049e-02,  1.75533618e-03,  6.05111718e-02,\n",
       "       -2.00551935e-02,  7.20627755e-02,  2.83169318e-02, -2.18159109e-02,\n",
       "        1.81489289e-02,  8.82290769e-03, -3.89611498e-02,  3.46980616e-02,\n",
       "        4.40646224e-02, -5.71531989e-02,  4.18804996e-02, -2.20800303e-02,\n",
       "        1.68907512e-02, -2.27685980e-02,  6.12360276e-02, -4.13944609e-02,\n",
       "       -2.12683044e-02, -1.06685318e-03, -7.88853019e-02, -1.65599752e-02,\n",
       "        3.93112637e-02,  2.79442351e-02,  4.03493904e-02,  2.00979151e-02,\n",
       "        3.80890891e-02,  4.75193709e-02,  1.77070629e-02,  5.46971485e-02,\n",
       "        1.60303675e-02,  3.11461706e-02,  5.84890097e-02, -6.00390788e-03,\n",
       "        7.41984099e-02,  2.35481691e-02,  2.85736863e-02,  3.54943750e-03,\n",
       "       -4.78640348e-02,  3.71731967e-02,  5.82040586e-02, -3.87696959e-02,\n",
       "       -5.10317460e-02,  3.45617980e-02,  9.93553549e-02, -2.03855187e-02,\n",
       "       -2.63369773e-02,  7.93563053e-02,  1.47159211e-02,  1.67097803e-02,\n",
       "        6.97916280e-03, -4.10502702e-02,  3.26938927e-02, -2.79546902e-02,\n",
       "        7.33092008e-03,  2.05662120e-02,  2.15915982e-02, -1.28602562e-03,\n",
       "        3.90824303e-02, -3.56024839e-02, -3.07428744e-02,  2.35323068e-02,\n",
       "       -2.03152057e-02, -6.64778873e-02, -5.24945408e-02, -1.41403750e-02,\n",
       "       -1.71988290e-02,  3.61055769e-02,  5.03248684e-02,  8.12654663e-03,\n",
       "       -1.85285194e-03,  5.47482967e-02, -8.56062211e-03, -1.61009487e-02,\n",
       "        6.37911260e-02,  3.59447673e-02, -3.55200954e-02, -3.94979306e-02,\n",
       "       -6.02280907e-02, -2.77489815e-02, -5.69668524e-02, -1.11459440e-03,\n",
       "       -4.74901162e-02,  6.25579013e-03, -3.16783274e-03,  2.38056350e-02,\n",
       "        1.67886857e-02, -2.97379903e-02,  1.20211579e-02, -8.51789713e-02,\n",
       "        5.22805117e-02, -8.70366246e-02, -6.11663610e-03, -4.25539576e-02,\n",
       "       -4.63487171e-02,  8.32086708e-03, -4.16821390e-02, -1.17432037e-02,\n",
       "        5.25689637e-03,  4.57985885e-02,  1.15844375e-02, -6.46775290e-02,\n",
       "       -1.48627057e-03,  3.27752456e-02,  2.78523359e-02, -2.34077182e-02,\n",
       "       -1.22864945e-02,  6.53251559e-02, -3.12333368e-03,  3.40831950e-02,\n",
       "        2.65961373e-03,  7.40798330e-03, -4.98160943e-02, -2.85234256e-03,\n",
       "        3.24386582e-02,  8.28182604e-03, -2.83023901e-02,  1.38262715e-02,\n",
       "       -9.89899784e-03,  2.91492045e-02, -5.04133627e-02, -1.37046017e-02,\n",
       "       -5.18895239e-02, -3.74731957e-03,  4.29504067e-02,  8.41731019e-03,\n",
       "        3.06494664e-02, -3.87582257e-02,  3.31664309e-02, -5.50600328e-03,\n",
       "        1.90073866e-02,  2.60136910e-02,  3.13089266e-02,  2.83099599e-02,\n",
       "        1.48602463e-02, -9.93294194e-02,  2.56289057e-02,  1.73664186e-02,\n",
       "        1.47002721e-02,  6.17007650e-02,  4.75671180e-02, -2.66286768e-02,\n",
       "        3.58028002e-02, -5.23881288e-03,  4.10174672e-03,  5.78156784e-02,\n",
       "       -6.16603578e-03, -3.48258950e-02,  7.70670027e-02,  3.93168963e-02,\n",
       "       -2.18185913e-02,  2.44908668e-02, -6.03613593e-02,  2.92071998e-02,\n",
       "       -9.48220305e-03,  2.78651919e-02, -4.95756231e-02,  1.87697168e-02,\n",
       "       -7.05915093e-02,  3.59350070e-02,  3.37451510e-02, -3.83634493e-02,\n",
       "       -1.33538479e-03,  1.92232579e-02,  4.44404371e-02,  4.61779572e-02,\n",
       "        1.34484749e-02,  9.53772385e-03, -1.34612562e-03, -4.16169949e-02,\n",
       "        1.45741012e-02,  1.64530631e-02, -4.03143317e-02, -1.82186603e-03,\n",
       "        2.52333041e-02, -4.89209034e-02, -1.49784181e-02,  5.46058156e-02,\n",
       "       -3.93350050e-02, -1.75865144e-02, -1.12634916e-02,  4.23509143e-02,\n",
       "        3.37294452e-02, -1.45477559e-02, -1.78296901e-02, -4.03998755e-02,\n",
       "        3.26599181e-02, -1.91928074e-02,  1.94164962e-02, -7.16423839e-02,\n",
       "        2.63906904e-02, -4.57283892e-02,  2.80639958e-02,  5.18877199e-03,\n",
       "       -2.95011923e-02, -5.94841912e-02, -1.41686061e-02,  1.30010052e-02,\n",
       "        1.43506331e-02,  6.47321120e-02, -1.29900230e-02,  8.63146782e-03,\n",
       "       -2.14061700e-02,  4.13889624e-02,  4.66115889e-04, -4.42672074e-02,\n",
       "        2.55186800e-02,  1.28670651e-02,  2.11837031e-02,  2.87430845e-02,\n",
       "        9.49624181e-03,  8.91624391e-03, -1.64446514e-02, -1.80226136e-02,\n",
       "       -5.14409021e-02, -1.53601076e-02, -7.76749924e-02,  4.46275659e-02,\n",
       "        8.40460286e-02,  1.16892410e-02, -4.37974520e-02, -2.14223415e-02,\n",
       "        3.22008170e-02,  4.51999158e-02,  4.77756001e-02, -3.04188579e-02,\n",
       "        1.17124571e-02, -1.91456843e-02,  3.99833396e-02, -1.96637399e-02,\n",
       "       -4.28188071e-02,  2.19761115e-02,  1.45387910e-02,  5.09285294e-02,\n",
       "       -3.07209920e-02,  2.36411914e-02, -8.36709607e-03, -1.40057262e-02,\n",
       "       -1.97912138e-02,  1.29359411e-02, -2.59387717e-02, -2.15266198e-02,\n",
       "       -4.98809703e-02, -1.46377478e-02, -2.72462815e-02, -2.83932127e-02,\n",
       "       -1.35491453e-02,  9.44229105e-05,  1.03539648e-02, -1.07364859e-02,\n",
       "       -3.45108286e-02,  5.25660180e-02,  5.47295846e-02, -1.12081310e-02,\n",
       "        9.69245285e-03, -6.33816198e-02, -2.33274382e-02,  1.58982426e-02,\n",
       "       -2.86302678e-02, -2.48316247e-02,  1.97327249e-02, -1.39690815e-02,\n",
       "        2.62713991e-02, -1.18115852e-02, -5.11485487e-02, -4.25523659e-03,\n",
       "        4.72459709e-03,  2.45163962e-02,  9.70235746e-03, -4.42148931e-02,\n",
       "       -4.90767360e-02, -3.91057283e-02, -3.18056382e-02, -1.72738098e-02,\n",
       "       -5.34010157e-02, -3.58482152e-02, -7.23159220e-03,  3.58776248e-04,\n",
       "        9.11858901e-02,  1.96977351e-02, -2.19212789e-02,  7.35381395e-02,\n",
       "        1.27651775e-02, -2.26701349e-02,  4.47234362e-02, -6.54227734e-02,\n",
       "       -5.73643818e-02,  3.65814078e-03, -2.37810165e-02,  4.88605462e-02,\n",
       "       -4.03131498e-03,  3.52351107e-02,  6.92987144e-02, -6.17292535e-04,\n",
       "        2.59895739e-03,  2.07851036e-03,  9.22447350e-03, -5.48667610e-02,\n",
       "       -4.42030728e-02, -4.09669280e-02,  3.43221761e-02,  7.96655640e-02,\n",
       "       -2.23148223e-02, -3.94250192e-02,  9.31876339e-03, -9.01184604e-03,\n",
       "       -2.97024380e-02,  2.76720319e-02, -3.11347051e-03,  7.04504177e-02,\n",
       "        6.30064160e-02,  9.73670650e-03,  7.08731962e-03,  4.41370495e-02,\n",
       "       -3.24214483e-03, -3.40940319e-02,  1.47056673e-02, -2.02576444e-02,\n",
       "       -1.84214627e-03, -2.72829793e-02, -5.43249324e-02,  2.64258254e-02,\n",
       "       -8.94792527e-02, -1.18461857e-02, -1.27144465e-02,  4.29246537e-02,\n",
       "        3.02426107e-02,  1.65051408e-02,  5.78254834e-02,  8.76326635e-02,\n",
       "       -7.63018755e-03, -1.28518827e-02,  3.87519822e-02, -3.57889533e-02,\n",
       "       -4.97419722e-02, -4.01557460e-02,  1.59206390e-02, -4.65648854e-03,\n",
       "        3.73971574e-02,  1.42648676e-02, -6.91310614e-02, -6.83558583e-02,\n",
       "        1.42621743e-02, -1.54429898e-01,  1.64633170e-02, -1.42601947e-03,\n",
       "        2.42022984e-02, -1.89465558e-04,  2.21901517e-02, -1.08706942e-02,\n",
       "       -4.48324531e-02,  1.84386801e-02, -1.02365054e-02,  2.95973127e-03,\n",
       "        4.45403159e-02, -2.84904074e-02, -1.82978902e-02, -4.82867770e-02,\n",
       "        4.05914299e-02,  2.45575737e-02,  1.05185192e-02, -7.83340511e-05,\n",
       "        1.55811999e-02, -9.83122922e-03, -4.23459932e-02,  3.35908644e-02,\n",
       "       -9.05709192e-02, -2.12424789e-02, -1.83318332e-02, -4.65750135e-02,\n",
       "       -3.73594160e-03,  3.16359960e-02, -2.02617012e-02,  3.93797718e-02,\n",
       "        3.50064710e-02, -4.25827950e-02, -7.38778338e-03,  3.20457146e-02,\n",
       "        4.82899174e-02, -5.76323783e-03,  3.68498191e-02, -3.11937071e-02,\n",
       "        1.69015676e-02, -2.02729390e-03,  4.36115127e-33,  3.36975232e-03,\n",
       "        4.60439222e-03, -5.28383721e-03,  1.27097964e-02,  4.04618382e-02,\n",
       "       -4.38178778e-02, -3.57254334e-02, -2.65237018e-02,  5.83382621e-02,\n",
       "        1.06487712e-02, -8.70046392e-02, -2.46294923e-02, -6.57592434e-03,\n",
       "       -4.91656773e-02,  1.46878632e-02, -7.76072452e-03,  4.19644155e-02,\n",
       "       -4.52100225e-02, -3.95142026e-02, -1.86129054e-03, -4.63757068e-02,\n",
       "       -1.44502446e-02, -1.36670582e-02, -2.24677194e-02, -4.51805778e-02,\n",
       "        2.46758945e-02, -1.97866256e-03, -6.25007153e-02, -2.30104234e-02,\n",
       "       -3.30206985e-03,  2.32429877e-02, -1.26338359e-02,  1.56182274e-02,\n",
       "       -2.56269742e-02,  4.70360145e-02,  8.66690278e-03,  3.15521695e-02,\n",
       "       -3.19982966e-04, -3.50499526e-02,  3.53633687e-02, -3.29444651e-03,\n",
       "       -4.05957364e-02, -9.36391298e-03,  4.50929701e-02, -3.30887586e-02,\n",
       "        4.74714711e-02, -7.45500345e-03, -3.10617853e-02, -2.07012426e-02,\n",
       "       -5.77127896e-02,  3.03088631e-02,  5.94212720e-03,  6.24995492e-03,\n",
       "       -4.27322239e-02,  6.24133181e-03,  9.98171121e-02,  1.48670703e-01,\n",
       "       -3.39952260e-02,  6.71079382e-03,  2.76645962e-02,  1.28201973e-02,\n",
       "        1.00822523e-02, -2.05235719e-03,  2.18272209e-02, -8.51242803e-03,\n",
       "       -6.72145747e-04, -1.63257569e-02, -1.94896832e-02,  2.07102783e-02,\n",
       "       -3.31112109e-02,  2.60938890e-02, -8.62430781e-02,  7.98206329e-02,\n",
       "        2.32973322e-03,  3.69724408e-02, -3.47377099e-02, -2.75973938e-02,\n",
       "       -5.86435851e-03,  5.79141416e-02, -3.28365490e-02, -1.84296239e-02,\n",
       "       -4.29234141e-03,  4.27200720e-02,  2.53223348e-02,  1.65011063e-02,\n",
       "        1.61073282e-02,  5.68637922e-02,  4.15021032e-02,  2.37740483e-03,\n",
       "       -2.76481640e-03,  3.15581225e-02, -1.82001907e-02,  1.56974290e-02,\n",
       "        3.91598698e-03, -2.41593961e-02, -9.94990580e-03,  1.26011623e-02,\n",
       "        1.53971547e-02, -4.34884569e-03,  6.40470115e-03,  1.52521185e-03,\n",
       "       -4.94754724e-02,  2.06138566e-02, -3.02284881e-02,  1.54662021e-02,\n",
       "       -4.00999747e-02,  2.63373666e-02, -2.64702691e-03, -5.34800813e-02,\n",
       "       -9.68134496e-03, -1.80415511e-02,  1.48648079e-02,  2.22083461e-02,\n",
       "        4.76445742e-02, -1.60735450e-04, -3.85901146e-03, -2.40096264e-02,\n",
       "       -1.75345466e-02,  3.71886864e-02,  9.04455036e-02, -1.63491480e-02,\n",
       "       -3.83397266e-02,  3.69245633e-02,  2.55854446e-02, -5.39570535e-03,\n",
       "        3.82469110e-02,  1.78415477e-02, -1.29234903e-02,  4.25316654e-02,\n",
       "        2.11226363e-02, -2.05544345e-02, -2.28394251e-02,  1.96959861e-02,\n",
       "        1.19160011e-03,  3.93749550e-02, -2.88893841e-02, -7.44772283e-03,\n",
       "       -2.20738221e-02,  2.56969873e-02, -5.87551389e-03, -4.22077589e-02,\n",
       "        2.34817211e-02, -4.43295054e-02,  1.45926783e-02,  3.58771719e-02,\n",
       "       -5.15811658e-03, -4.05495130e-02, -5.11801708e-03, -2.41549574e-02,\n",
       "       -2.50137001e-02,  3.48351300e-02, -2.16968544e-02,  3.02136783e-02,\n",
       "       -9.31260455e-03, -1.62531231e-02, -3.75683866e-02, -1.30344862e-02,\n",
       "       -1.56890638e-02,  5.67333028e-03,  4.37527299e-02, -1.93420015e-02,\n",
       "       -1.46277435e-02, -5.13013033e-03,  2.43015084e-02,  1.89573076e-02,\n",
       "        3.14943381e-02,  6.61144732e-03,  3.38082225e-03,  3.32085490e-02,\n",
       "        1.17790336e-02,  1.66101672e-03, -5.34049943e-02, -9.86698433e-04,\n",
       "       -8.31945892e-03,  4.35272865e-02,  3.63894068e-02,  2.01173755e-03,\n",
       "       -1.74224824e-02, -1.01413041e-01,  2.25962400e-02, -2.39966232e-02,\n",
       "        1.47380540e-02, -1.77481864e-02, -4.76041213e-02, -2.89126411e-02,\n",
       "       -2.98050907e-03, -4.75947596e-02,  3.68086360e-02, -6.94022328e-03,\n",
       "        1.22147966e-02,  7.34554138e-03, -2.17443556e-02, -2.23171785e-02,\n",
       "        2.21012477e-02, -2.65535824e-02, -4.89304550e-02,  1.96225010e-02,\n",
       "       -2.98054442e-02, -5.74090481e-02,  2.83912243e-03, -4.73161116e-02,\n",
       "       -4.63882647e-02,  1.91568136e-02, -6.97891787e-02, -8.56857970e-02,\n",
       "        2.23355852e-02, -2.81329136e-02,  3.06662638e-02, -6.11502165e-03,\n",
       "       -8.45634844e-03, -3.45388725e-02,  1.14312228e-02, -1.33597320e-02,\n",
       "        1.28693618e-02,  1.79160777e-02, -3.82495783e-02,  3.25202420e-02,\n",
       "        4.13344167e-02,  4.01642062e-02, -1.55172078e-03,  1.11573571e-02,\n",
       "        1.14928139e-02,  1.46195311e-02,  1.97824705e-02, -3.54281589e-02,\n",
       "        8.18732604e-02,  6.62683547e-02, -1.16669550e-03, -3.97931896e-02,\n",
       "        7.22388178e-02, -3.03952601e-02,  5.95257729e-02,  8.41417089e-02,\n",
       "        4.88257185e-02,  2.96689142e-02,  3.01748770e-03,  4.26058061e-02,\n",
       "        1.84929762e-02,  2.38130615e-05,  6.57055974e-02,  2.10635527e-03,\n",
       "       -3.11113708e-02,  5.69323450e-02, -2.90077683e-02,  3.44459191e-02,\n",
       "        1.37301926e-02,  1.91115737e-02, -7.46669769e-02, -6.00521974e-02,\n",
       "       -8.88453238e-03,  3.01575996e-02, -1.66909806e-02,  1.15521839e-02,\n",
       "        4.93387505e-02, -6.21342734e-02, -2.77460124e-02,  3.84936519e-02,\n",
       "        2.69564707e-03,  3.71406712e-02, -8.50673672e-03, -2.89429836e-02,\n",
       "       -5.04465662e-02,  1.89936310e-02, -4.85311188e-02,  4.84546535e-02,\n",
       "       -4.64446992e-02, -2.75397729e-02, -3.40352915e-02, -3.77786206e-03,\n",
       "       -3.13783251e-02, -5.96436709e-02, -3.49832757e-04,  1.35524608e-02],\n",
       "      dtype=float32)"
      ]
     },
     "execution_count": 23,
     "metadata": {},
     "output_type": "execute_result"
    }
   ],
   "source": [
    "x_data[1, 2, :]"
   ]
  },
  {
   "cell_type": "markdown",
   "metadata": {
    "id": "3kTOyVIHOwI9"
   },
   "source": [
    "# Dimension reduction\n",
    "\n",
    "## Because the final vectors have high dimensions, we chose to use dimension reduction algorithms that could help the model converge and more correctly predict the next vector. The algorithm used is UMAP and is one of the best for this task."
   ]
  },
  {
   "cell_type": "code",
   "execution_count": null,
   "metadata": {
    "colab": {
     "base_uri": "https://localhost:8080/"
    },
    "id": "1iGimX4kRCKn",
    "outputId": "f203e86a-1060-447a-83e4-60f13212288f"
   },
   "outputs": [
    {
     "name": "stderr",
     "output_type": "stream",
     "text": [
      "/usr/local/lib/python3.7/dist-packages/numba/np/ufunc/parallel.py:363: NumbaWarning: The TBB threading layer requires TBB version 2019.5 or later i.e., TBB_INTERFACE_VERSION >= 11005. Found TBB_INTERFACE_VERSION = 9107. The TBB threading layer is disabled.\n",
      "  warnings.warn(problem)\n"
     ]
    }
   ],
   "source": [
    "umap_emb = umap.UMAP(n_neighbors=15, \n",
    "                     n_components=69, \n",
    "                     metric='cosine').fit_transform(umap_embedding)"
   ]
  },
  {
   "cell_type": "code",
   "execution_count": null,
   "metadata": {
    "colab": {
     "base_uri": "https://localhost:8080/"
    },
    "id": "ZR5owYAnZC1R",
    "outputId": "81f61e29-2699-4edc-cc58-add7fc33aed1"
   },
   "outputs": [
    {
     "data": {
      "text/plain": [
       "(370, 69)"
      ]
     },
     "execution_count": 25,
     "metadata": {},
     "output_type": "execute_result"
    }
   ],
   "source": [
    "umap_emb.shape"
   ]
  },
  {
   "cell_type": "code",
   "execution_count": null,
   "metadata": {
    "colab": {
     "base_uri": "https://localhost:8080/"
    },
    "id": "547RgHHzZEPI",
    "outputId": "836eadc7-8f26-4ddd-89fb-d6f68a7dbd2f"
   },
   "outputs": [
    {
     "data": {
      "text/plain": [
       "array([5.05782  , 0.7971749, 1.7698562, 2.1316729, 5.065205 , 5.2560177,\n",
       "       1.7082068, 7.2333183, 7.2903867, 4.255931 , 5.598235 , 4.735095 ,\n",
       "       6.1532655, 3.1924815, 4.2894034, 4.4589076, 4.6292834, 6.171775 ,\n",
       "       4.073825 , 6.0064993, 4.0732226, 4.667424 , 5.6596246, 2.5283165,\n",
       "       5.717544 , 7.531137 , 5.5299597, 4.9989357, 4.2748513, 5.5764713,\n",
       "       5.085316 , 4.4749246, 5.583394 , 4.622784 , 5.5717974, 4.2220607,\n",
       "       4.538298 , 4.5998282, 5.567291 , 5.315018 , 5.5774636, 5.546187 ,\n",
       "       5.0962157, 4.5654883, 4.955469 , 5.1977882, 5.306213 , 5.1386213,\n",
       "       4.723305 , 4.4464006, 6.0125637, 4.5090747, 4.428159 , 3.7792788,\n",
       "       5.1179056, 5.54784  , 5.8408175, 5.5282054, 5.5833545, 5.6447887,\n",
       "       5.892504 , 5.1190777, 6.19496  , 4.4239974, 4.0358906, 4.6147733,\n",
       "       6.0577617, 4.7605066, 6.447514 ], dtype=float32)"
      ]
     },
     "execution_count": 26,
     "metadata": {},
     "output_type": "execute_result"
    }
   ],
   "source": [
    "umap_emb[1]"
   ]
  },
  {
   "cell_type": "code",
   "execution_count": null,
   "metadata": {
    "id": "PSaopq6MU1at"
   },
   "outputs": [],
   "source": [
    "x_umap = []\n",
    "\n",
    "for i in range(len(umap_emb)//5):\n",
    "    x_umap.append(umap_emb[i*5:i*5+5])"
   ]
  },
  {
   "cell_type": "code",
   "execution_count": null,
   "metadata": {
    "colab": {
     "base_uri": "https://localhost:8080/"
    },
    "id": "Nu1XG0PcYBWt",
    "outputId": "95acfbad-29e7-43a8-879c-677cd250ff60"
   },
   "outputs": [
    {
     "data": {
      "text/plain": [
       "(74, 5, 69)"
      ]
     },
     "execution_count": 28,
     "metadata": {},
     "output_type": "execute_result"
    }
   ],
   "source": [
    "x_umap = np.array(x_umap, dtype=object).astype('float32')\n",
    "x_umap.shape"
   ]
  },
  {
   "cell_type": "code",
   "execution_count": null,
   "metadata": {
    "colab": {
     "base_uri": "https://localhost:8080/"
    },
    "id": "FJxPuHjRYJh-",
    "outputId": "c12bafd5-46b6-4a39-9c8d-82955d60d875"
   },
   "outputs": [
    {
     "data": {
      "text/plain": [
       "array([4.5779204, 0.7612202, 1.8815739, 2.249155 , 5.4481487, 5.076612 ,\n",
       "       1.991798 , 7.295516 , 7.0167327, 3.736155 , 5.417722 , 4.5661516,\n",
       "       6.4154515, 2.9691656, 4.1425867, 4.327845 , 4.9765434, 6.2208276,\n",
       "       4.4805713, 6.680025 , 4.2834835, 4.7473435, 5.8370905, 2.9348223,\n",
       "       5.854182 , 7.6328697, 5.903416 , 4.7009034, 4.247373 , 5.379615 ,\n",
       "       5.4537544, 4.1266437, 5.766979 , 4.632747 , 5.82228  , 4.7836   ,\n",
       "       5.152286 , 4.669774 , 5.5662956, 5.0485263, 5.930966 , 5.7533636,\n",
       "       5.8415785, 4.785646 , 4.8089314, 5.3907533, 4.8018165, 5.1637306,\n",
       "       4.218942 , 4.3460884, 5.9497895, 4.8955135, 4.716818 , 4.2566857,\n",
       "       4.704751 , 5.094411 , 5.7287884, 4.9907994, 5.447152 , 5.320242 ,\n",
       "       5.8531094, 5.1673427, 6.317832 , 4.221317 , 4.121166 , 4.7499485,\n",
       "       6.6026697, 4.697438 , 6.6407423], dtype=float32)"
      ]
     },
     "execution_count": 29,
     "metadata": {},
     "output_type": "execute_result"
    }
   ],
   "source": [
    "x_umap[1, 2, :]"
   ]
  },
  {
   "cell_type": "code",
   "execution_count": null,
   "metadata": {
    "id": "jNaKfjzXU829"
   },
   "outputs": [],
   "source": [
    "np.save('/content/drive/My Drive/Projet 16/Short Term/history_embedding.npy', x_data)"
   ]
  },
  {
   "cell_type": "code",
   "execution_count": null,
   "metadata": {
    "colab": {
     "base_uri": "https://localhost:8080/"
    },
    "id": "k1UO7fbUc2Sg",
    "outputId": "f7de77bc-dde4-4be1-92b9-eb8f2fb204d4"
   },
   "outputs": [
    {
     "name": "stderr",
     "output_type": "stream",
     "text": [
      "100%|██████████| 74/74 [01:24<00:00,  1.14s/it]\n"
     ]
    }
   ],
   "source": [
    "y = []\n",
    "\n",
    "for news_id in tqdm(list_candidate[:74]):\n",
    "    y.append(article_embedding(news_id)[0])\n",
    "\n",
    "# y_label = np.array(y, dtype=object)"
   ]
  },
  {
   "cell_type": "code",
   "execution_count": null,
   "metadata": {
    "id": "cEVHwtxYdFJa"
   },
   "outputs": [],
   "source": [
    "y_label = np.array(y, dtype=object).astype('float32')"
   ]
  },
  {
   "cell_type": "code",
   "execution_count": null,
   "metadata": {
    "colab": {
     "base_uri": "https://localhost:8080/"
    },
    "id": "LXa7QXX5cFN8",
    "outputId": "58aa4f52-9702-462f-fc08-c8d001035bfc"
   },
   "outputs": [
    {
     "data": {
      "text/plain": [
       "(74, 768)"
      ]
     },
     "execution_count": 35,
     "metadata": {},
     "output_type": "execute_result"
    }
   ],
   "source": [
    "y_label.shape"
   ]
  },
  {
   "cell_type": "code",
   "execution_count": null,
   "metadata": {
    "id": "GiXxN1cRbbkZ"
   },
   "outputs": [],
   "source": [
    "y_umap = umap.UMAP(n_neighbors=2, \n",
    "                   n_components=69, \n",
    "                   metric='cosine').fit_transform(y_label)"
   ]
  },
  {
   "cell_type": "code",
   "execution_count": null,
   "metadata": {
    "colab": {
     "base_uri": "https://localhost:8080/"
    },
    "id": "zJF0jsfqcH40",
    "outputId": "fbec55bd-0a74-4c9e-ccc7-b5c5bb65ce64"
   },
   "outputs": [
    {
     "data": {
      "text/plain": [
       "(74, 69)"
      ]
     },
     "execution_count": 37,
     "metadata": {},
     "output_type": "execute_result"
    }
   ],
   "source": [
    "y_umap.shape"
   ]
  },
  {
   "cell_type": "code",
   "execution_count": null,
   "metadata": {
    "id": "K1TvuGQIb9aD"
   },
   "outputs": [],
   "source": [
    "np.save('/content/drive/My Drive/Projet 16/Short Term/candidate_embedding.npy', y_label)"
   ]
  },
  {
   "cell_type": "markdown",
   "metadata": {
    "id": "bLHMavtGPFPe"
   },
   "source": [
    "# Model\n",
    "\n",
    "## The model is a simple GRU layer that will go through the article embeddings and try to predict the next one."
   ]
  },
  {
   "cell_type": "code",
   "execution_count": null,
   "metadata": {
    "colab": {
     "base_uri": "https://localhost:8080/"
    },
    "id": "Pi7OkhcU0FGn",
    "outputId": "99115551-689d-4ab3-ee93-2dbb1b192115"
   },
   "outputs": [
    {
     "name": "stdout",
     "output_type": "stream",
     "text": [
      "Model: \"model\"\n",
      "__________________________________________________________________________________________________\n",
      " Layer (type)                   Output Shape         Param #     Connected to                     \n",
      "==================================================================================================\n",
      " input_1 (InputLayer)           [(None, 5, 69)]      0           []                               \n",
      "                                                                                                  \n",
      " tf.__operators__.getitem (Slic  (None, 69)          0           ['input_1[0][0]']                \n",
      " ingOpLambda)                                                                                     \n",
      "                                                                                                  \n",
      " tf.__operators__.getitem_1 (Sl  (None, 69)          0           ['input_1[0][0]']                \n",
      " icingOpLambda)                                                                                   \n",
      "                                                                                                  \n",
      " tf.expand_dims (TFOpLambda)    (None, 1, 69)        0           ['tf.__operators__.getitem[0][0]'\n",
      "                                                                 ]                                \n",
      "                                                                                                  \n",
      " gru (GRU)                      [(None, 1, 128),     76416       ['tf.expand_dims[0][0]',         \n",
      "                                 (None, 128)]                     'tf.expand_dims_1[0][0]',       \n",
      "                                                                  'gru[0][1]',                    \n",
      "                                                                  'tf.expand_dims_2[0][0]',       \n",
      "                                                                  'gru[1][1]',                    \n",
      "                                                                  'tf.expand_dims_3[0][0]',       \n",
      "                                                                  'gru[2][1]',                    \n",
      "                                                                  'tf.expand_dims_4[0][0]',       \n",
      "                                                                  'gru[3][1]']                    \n",
      "                                                                                                  \n",
      " tf.__operators__.getitem_2 (Sl  (None, 69)          0           ['input_1[0][0]']                \n",
      " icingOpLambda)                                                                                   \n",
      "                                                                                                  \n",
      " tf.expand_dims_1 (TFOpLambda)  (None, 1, 69)        0           ['tf.__operators__.getitem_1[0][0\n",
      "                                                                 ]']                              \n",
      "                                                                                                  \n",
      " tf.__operators__.getitem_3 (Sl  (None, 69)          0           ['input_1[0][0]']                \n",
      " icingOpLambda)                                                                                   \n",
      "                                                                                                  \n",
      " tf.expand_dims_2 (TFOpLambda)  (None, 1, 69)        0           ['tf.__operators__.getitem_2[0][0\n",
      "                                                                 ]']                              \n",
      "                                                                                                  \n",
      " tf.__operators__.getitem_4 (Sl  (None, 69)          0           ['input_1[0][0]']                \n",
      " icingOpLambda)                                                                                   \n",
      "                                                                                                  \n",
      " tf.expand_dims_3 (TFOpLambda)  (None, 1, 69)        0           ['tf.__operators__.getitem_3[0][0\n",
      "                                                                 ]']                              \n",
      "                                                                                                  \n",
      " tf.expand_dims_4 (TFOpLambda)  (None, 1, 69)        0           ['tf.__operators__.getitem_4[0][0\n",
      "                                                                 ]']                              \n",
      "                                                                                                  \n",
      " dense (Dense)                  (None, 1, 69)        8901        ['gru[4][0]']                    \n",
      "                                                                                                  \n",
      "==================================================================================================\n",
      "Total params: 85,317\n",
      "Trainable params: 85,317\n",
      "Non-trainable params: 0\n",
      "__________________________________________________________________________________________________\n",
      "None\n"
     ]
    }
   ],
   "source": [
    "# Input shape using the last 5 clicked news with 768 features for embedding but dimension reduced to 256\n",
    "# Dimension of the output feature space of 128 as stater\n",
    "# Dense layer to obtain a candidate embedding of shape (1, 1, 256)\n",
    "\n",
    "inputs = layers.Input(shape=(5, 256))\n",
    "gru = layers.GRU(128, return_sequences=True, return_state=True)\n",
    "dense = layers.Dense(256, activation='sigmoid')\n",
    "\n",
    "# _, h_0   = gru(inputs=tf.expand_dims(inputs[:, 0], axis=1), initial_state=None)\n",
    "# _, h_1   = gru(inputs=tf.expand_dims(inputs[:, 1], axis=1), initial_state=h_0)\n",
    "# _, h_2   = gru(inputs=tf.expand_dims(inputs[:, 2], axis=1), initial_state=h_1)\n",
    "# _, h_3   = gru(inputs=tf.expand_dims(inputs[:, 3], axis=1), initial_state=h_2)\n",
    "# out, h_4 = gru(inputs=tf.expand_dims(inputs[:, 4], axis=1), initial_state=h_3)\n",
    "\n",
    "out, _ = gru(inputs=tf.expand_dims(inputs, axis=1), initial_state=None)\n",
    "\n",
    "short_emb = dense(out)\n",
    "\n",
    "short_interest = keras.Model(inputs, short_emb)\n",
    "\n",
    "short_interest.compile(loss='mean_absolute_error', optimizer='adam', metrics=['accuracy'], run_eagerly=True)\n",
    "\n",
    "print(short_interest.summary())"
   ]
  },
  {
   "cell_type": "code",
   "execution_count": null,
   "metadata": {
    "id": "lrn8RYpN4VtD"
   },
   "outputs": [],
   "source": [
    "# Callbacks to save the best model on the accuracy\n",
    "checkpoint_filepath = '/content/drive/My Drive/Projet 16/Encoder/models/checkpoint'\n",
    "model_checkpoint_callback = keras.callbacks.ModelCheckpoint(filepath=checkpoint_filepath,\n",
    "                                                            monitor='val_accuracy',\n",
    "                                                            mode='max',\n",
    "                                                            save_best_only=True)"
   ]
  },
  {
   "cell_type": "code",
   "execution_count": null,
   "metadata": {
    "id": "VglhAP8BkLPY"
   },
   "outputs": [],
   "source": [
    "# tf.config.run_functions_eagerly(True)\n",
    "# tf.data.experimental.enable_debug_mode()"
   ]
  },
  {
   "cell_type": "markdown",
   "metadata": {
    "id": "QIQG1qLfP8p_"
   },
   "source": [
    "# Evaluating\n",
    "\n",
    "## In the following example, we can see the model has not learnt from the data in entry. The leads to improve the results are to reduce the dimension using an autoencoder that will ensure the encoding gives the exact input if decoded. Moreover, it is possible the simple GRU is not enough to analyze the trend because there is not enough data for one user. The idea will be to add more recent clicked news for each user and give a larger sequence of vectors for the GRU model to learn from it"
   ]
  },
  {
   "cell_type": "code",
   "execution_count": null,
   "metadata": {
    "colab": {
     "base_uri": "https://localhost:8080/"
    },
    "id": "dSKarh3o1Ith",
    "outputId": "0001dbf3-01d2-4523-af21-285f03c8e782"
   },
   "outputs": [
    {
     "name": "stdout",
     "output_type": "stream",
     "text": [
      "Epoch 1/10\n",
      "35/35 [==============================] - 3s 67ms/step - loss: 4.2531 - accuracy: 0.0000e+00 - val_loss: 4.0679 - val_accuracy: 0.0000e+00\n",
      "Epoch 2/10\n",
      "35/35 [==============================] - 2s 63ms/step - loss: 4.1073 - accuracy: 0.0000e+00 - val_loss: 4.0425 - val_accuracy: 0.0000e+00\n",
      "Epoch 3/10\n",
      "35/35 [==============================] - 2s 63ms/step - loss: 4.0968 - accuracy: 0.0000e+00 - val_loss: 4.0381 - val_accuracy: 0.0000e+00\n",
      "Epoch 4/10\n",
      "35/35 [==============================] - 2s 61ms/step - loss: 4.0941 - accuracy: 0.0000e+00 - val_loss: 4.0364 - val_accuracy: 0.0000e+00\n",
      "Epoch 5/10\n",
      "35/35 [==============================] - 2s 62ms/step - loss: 4.0930 - accuracy: 0.0000e+00 - val_loss: 4.0356 - val_accuracy: 0.0000e+00\n",
      "Epoch 6/10\n",
      "35/35 [==============================] - 2s 62ms/step - loss: 4.0924 - accuracy: 0.0000e+00 - val_loss: 4.0352 - val_accuracy: 0.0000e+00\n",
      "Epoch 7/10\n",
      "35/35 [==============================] - 2s 64ms/step - loss: 4.0920 - accuracy: 0.0000e+00 - val_loss: 4.0349 - val_accuracy: 0.0000e+00\n",
      "Epoch 8/10\n",
      "35/35 [==============================] - 2s 63ms/step - loss: 4.0918 - accuracy: 0.0000e+00 - val_loss: 4.0346 - val_accuracy: 0.0000e+00\n",
      "Epoch 9/10\n",
      "35/35 [==============================] - 2s 64ms/step - loss: 4.0916 - accuracy: 0.0000e+00 - val_loss: 4.0345 - val_accuracy: 0.0000e+00\n",
      "Epoch 10/10\n",
      "35/35 [==============================] - 2s 64ms/step - loss: 4.0915 - accuracy: 0.0000e+00 - val_loss: 4.0344 - val_accuracy: 0.0000e+00\n"
     ]
    },
    {
     "data": {
      "text/plain": [
       "<keras.callbacks.History at 0x7fc927e64210>"
      ]
     },
     "execution_count": 41,
     "metadata": {},
     "output_type": "execute_result"
    }
   ],
   "source": [
    "short_interest.fit(x_umap, tf.expand_dims(y_umap, axis=1), validation_split=0.05, epochs=10, batch_size=2) # callbacks=[model_checkpoint_callback])"
   ]
  },
  {
   "cell_type": "code",
   "execution_count": null,
   "metadata": {
    "id": "W_CKdWU2135V"
   },
   "outputs": [],
   "source": []
  }
 ],
 "metadata": {
  "colab": {
   "collapsed_sections": [],
   "name": "TensorFlow_Short_Term_Interests.ipynb",
   "provenance": []
  },
  "kernelspec": {
   "display_name": "Python 3",
   "language": "python",
   "name": "python3"
  },
  "language_info": {
   "codemirror_mode": {
    "name": "ipython",
    "version": 3
   },
   "file_extension": ".py",
   "mimetype": "text/x-python",
   "name": "python",
   "nbconvert_exporter": "python",
   "pygments_lexer": "ipython3",
   "version": "3.8.5"
  }
 },
 "nbformat": 4,
 "nbformat_minor": 1
}
